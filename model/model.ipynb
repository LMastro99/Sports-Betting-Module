{
  "nbformat": 4,
  "nbformat_minor": 0,
  "metadata": {
    "colab": {
      "name": "model",
      "provenance": [],
      "collapsed_sections": []
    },
    "kernelspec": {
      "display_name": "Python 3",
      "name": "python3"
    },
    "language_info": {
      "name": "python"
    }
  },
  "cells": [
    {
      "cell_type": "code",
      "metadata": {
        "id": "R8axqa_pTBvH"
      },
      "source": [
        "# Necessary Imports\n",
        "import os\n",
        "import os.path\n",
        "import urllib\n",
        "from urllib import request\n",
        "import numpy as np\n",
        "import pandas as pd\n",
        "from matplotlib import pyplot as plt\n",
        "from sklearn.model_selection import train_test_split\n",
        "from sklearn.preprocessing import LabelEncoder, OneHotEncoder, MinMaxScaler\n",
        "from sklearn.pipeline import Pipeline\n",
        "from sklearn.compose import ColumnTransformer\n",
        "from sklearn.linear_model import LinearRegression\n",
        "from sklearn.metrics import mean_squared_error, mean_absolute_error\n",
        "from keras.models import Sequential\n",
        "from keras.layers import Dense, Flatten, LSTM\n",
        "from keras.wrappers.scikit_learn import KerasClassifier\n",
        "from sklearn.model_selection import cross_val_score\n",
        "from sklearn.model_selection import KFold\n",
        "from sklearn.svm import SVC\n",
        "import keras\n",
        "import tensorflow as tf"
      ],
      "execution_count": 1,
      "outputs": []
    },
    {
      "cell_type": "code",
      "metadata": {
        "colab": {
          "base_uri": "https://localhost:8080/"
        },
        "id": "qFar1pHQTDV6",
        "outputId": "c6f05cfb-c5b5-4c08-fa50-f501823aa5ce"
      },
      "source": [
        "# Download Data Files if Not Currently Downloaded into the Current Working Directory\n",
        "DOWNLOAD_DIR = \"/content/\"\n",
        "\n",
        "# Set Needed File Names\n",
        "needed_files = [\"matchups.xlsx\"]\n",
        "\n",
        "# Remove Space from Needed File Names\n",
        "file_urls = []\n",
        "for filename in needed_files:\n",
        "  file_urls.append(filename.replace(' ', '%20'))\n",
        "\n",
        "# Read and Download Needed Files\n",
        "for i in range(len(needed_files)):\n",
        "    if not os.path.isfile(DOWNLOAD_DIR + needed_files[i]):\n",
        "      DOWNLOAD_ROOT = \"https://raw.githubusercontent.com/LMastro99/Sports-Betting-Module/main/season-data/cleaning/subsets/\"\n",
        "      url = DOWNLOAD_ROOT + file_urls[i]\n",
        "      urllib.request.urlretrieve(url, DOWNLOAD_DIR + needed_files[i])\n",
        "    print(\"Downloaded\", needed_files[i])    \n",
        "\n",
        "    # Create Dataframe \"Layers\" with the Data From the XLSX Files\n",
        "    xls = pd.ExcelFile(DOWNLOAD_DIR + needed_files[i])\n",
        "    download = pd.read_excel(xls, '2007-08')\n",
        "    download = download.append(pd.read_excel(xls, '2008-09'))\n",
        "    download = download.append(pd.read_excel(xls, '2009-10'))\n",
        "    download = download.append(pd.read_excel(xls, '2010-11'))\n",
        "    download = download.append(pd.read_excel(xls, '2011-12'))\n",
        "    download = download.append(pd.read_excel(xls, '2012-13'))\n",
        "    download = download.append(pd.read_excel(xls, '2013-14'))\n",
        "    download = download.append(pd.read_excel(xls, '2014-15'))\n",
        "    download = download.append(pd.read_excel(xls, '2015-16'))\n",
        "    download = download.append(pd.read_excel(xls, '2016-17'))\n",
        "    download = download.append(pd.read_excel(xls, '2017-18'))\n",
        "    download = download.append(pd.read_excel(xls, '2018-19'))\n",
        "    download = download.append(pd.read_excel(xls, '2019-20'))\n",
        "    download = download.append(pd.read_excel(xls, '2020-21'))\n",
        "\n",
        "# Convert Matchups Data to DataFrame\n",
        "matchups = download\n",
        "idx = pd.Index(matchups['Unnamed: 0'], name='')\n",
        "matchups = matchups.reindex(idx)\n",
        "matchups = matchups.drop(columns = 'Unnamed: 0')\n",
        "matchups = matchups.reset_index(drop = True)"
      ],
      "execution_count": 2,
      "outputs": [
        {
          "output_type": "stream",
          "text": [
            "Downloaded matchups.xlsx\n"
          ],
          "name": "stdout"
        }
      ]
    },
    {
      "cell_type": "code",
      "metadata": {
        "colab": {
          "base_uri": "https://localhost:8080/",
          "height": 306
        },
        "id": "6VFv-IaH66cH",
        "outputId": "d83cc96f-2483-4569-ceb1-81fdf1a35ea6"
      },
      "source": [
        "# Show First 5 Matchups\n",
        "matchups[:5]"
      ],
      "execution_count": 3,
      "outputs": [
        {
          "output_type": "execute_result",
          "data": {
            "text/html": [
              "<div>\n",
              "<style scoped>\n",
              "    .dataframe tbody tr th:only-of-type {\n",
              "        vertical-align: middle;\n",
              "    }\n",
              "\n",
              "    .dataframe tbody tr th {\n",
              "        vertical-align: top;\n",
              "    }\n",
              "\n",
              "    .dataframe thead th {\n",
              "        text-align: right;\n",
              "    }\n",
              "</style>\n",
              "<table border=\"1\" class=\"dataframe\">\n",
              "  <thead>\n",
              "    <tr style=\"text-align: right;\">\n",
              "      <th></th>\n",
              "      <th>Season</th>\n",
              "      <th>Date</th>\n",
              "      <th>Away Team</th>\n",
              "      <th>Away 1st</th>\n",
              "      <th>Away 2nd</th>\n",
              "      <th>Away 3rd</th>\n",
              "      <th>Away 4th</th>\n",
              "      <th>Away Final</th>\n",
              "      <th>Away ML</th>\n",
              "      <th>Home Team</th>\n",
              "      <th>Home 1st</th>\n",
              "      <th>Home 2nd</th>\n",
              "      <th>Home 3rd</th>\n",
              "      <th>Home 4th</th>\n",
              "      <th>Home Final</th>\n",
              "      <th>Home ML</th>\n",
              "      <th>Home Favorite</th>\n",
              "      <th>Differential</th>\n",
              "    </tr>\n",
              "  </thead>\n",
              "  <tbody>\n",
              "    <tr>\n",
              "      <th>0</th>\n",
              "      <td>2007-08</td>\n",
              "      <td>2007-10-30</td>\n",
              "      <td>Portland</td>\n",
              "      <td>26</td>\n",
              "      <td>23</td>\n",
              "      <td>28</td>\n",
              "      <td>20</td>\n",
              "      <td>97</td>\n",
              "      <td>900</td>\n",
              "      <td>SanAntonio</td>\n",
              "      <td>29</td>\n",
              "      <td>30</td>\n",
              "      <td>22</td>\n",
              "      <td>25</td>\n",
              "      <td>106</td>\n",
              "      <td>-1400</td>\n",
              "      <td>1</td>\n",
              "      <td>9</td>\n",
              "    </tr>\n",
              "    <tr>\n",
              "      <th>1</th>\n",
              "      <td>2007-08</td>\n",
              "      <td>2007-10-30</td>\n",
              "      <td>Utah</td>\n",
              "      <td>28</td>\n",
              "      <td>34</td>\n",
              "      <td>24</td>\n",
              "      <td>31</td>\n",
              "      <td>117</td>\n",
              "      <td>100</td>\n",
              "      <td>GoldenState</td>\n",
              "      <td>30</td>\n",
              "      <td>21</td>\n",
              "      <td>21</td>\n",
              "      <td>24</td>\n",
              "      <td>96</td>\n",
              "      <td>-120</td>\n",
              "      <td>1</td>\n",
              "      <td>-21</td>\n",
              "    </tr>\n",
              "    <tr>\n",
              "      <th>2</th>\n",
              "      <td>2007-08</td>\n",
              "      <td>2007-10-30</td>\n",
              "      <td>Houston</td>\n",
              "      <td>16</td>\n",
              "      <td>27</td>\n",
              "      <td>27</td>\n",
              "      <td>25</td>\n",
              "      <td>95</td>\n",
              "      <td>-230</td>\n",
              "      <td>LALakers</td>\n",
              "      <td>25</td>\n",
              "      <td>18</td>\n",
              "      <td>19</td>\n",
              "      <td>31</td>\n",
              "      <td>93</td>\n",
              "      <td>190</td>\n",
              "      <td>0</td>\n",
              "      <td>2</td>\n",
              "    </tr>\n",
              "    <tr>\n",
              "      <th>3</th>\n",
              "      <td>2007-08</td>\n",
              "      <td>2007-10-31</td>\n",
              "      <td>Philadelphia</td>\n",
              "      <td>22</td>\n",
              "      <td>28</td>\n",
              "      <td>17</td>\n",
              "      <td>30</td>\n",
              "      <td>97</td>\n",
              "      <td>255</td>\n",
              "      <td>Toronto</td>\n",
              "      <td>24</td>\n",
              "      <td>34</td>\n",
              "      <td>23</td>\n",
              "      <td>25</td>\n",
              "      <td>106</td>\n",
              "      <td>-305</td>\n",
              "      <td>1</td>\n",
              "      <td>9</td>\n",
              "    </tr>\n",
              "    <tr>\n",
              "      <th>4</th>\n",
              "      <td>2007-08</td>\n",
              "      <td>2007-10-31</td>\n",
              "      <td>Washington</td>\n",
              "      <td>23</td>\n",
              "      <td>22</td>\n",
              "      <td>25</td>\n",
              "      <td>33</td>\n",
              "      <td>110</td>\n",
              "      <td>-125</td>\n",
              "      <td>Indiana</td>\n",
              "      <td>28</td>\n",
              "      <td>20</td>\n",
              "      <td>22</td>\n",
              "      <td>33</td>\n",
              "      <td>119</td>\n",
              "      <td>105</td>\n",
              "      <td>0</td>\n",
              "      <td>-9</td>\n",
              "    </tr>\n",
              "  </tbody>\n",
              "</table>\n",
              "</div>"
            ],
            "text/plain": [
              "    Season       Date     Away Team  ...  Home ML  Home Favorite  Differential\n",
              "0  2007-08 2007-10-30      Portland  ...    -1400              1             9\n",
              "1  2007-08 2007-10-30          Utah  ...     -120              1           -21\n",
              "2  2007-08 2007-10-30       Houston  ...      190              0             2\n",
              "3  2007-08 2007-10-31  Philadelphia  ...     -305              1             9\n",
              "4  2007-08 2007-10-31    Washington  ...      105              0            -9\n",
              "\n",
              "[5 rows x 18 columns]"
            ]
          },
          "metadata": {
            "tags": []
          },
          "execution_count": 3
        }
      ]
    },
    {
      "cell_type": "code",
      "metadata": {
        "colab": {
          "base_uri": "https://localhost:8080/",
          "height": 306
        },
        "id": "EiZ3O-OM68V5",
        "outputId": "86b68434-b65b-44e8-d2c2-35a65e39a94b"
      },
      "source": [
        "# Show Last 5 Matchups\n",
        "matchups[-5:]"
      ],
      "execution_count": 4,
      "outputs": [
        {
          "output_type": "execute_result",
          "data": {
            "text/html": [
              "<div>\n",
              "<style scoped>\n",
              "    .dataframe tbody tr th:only-of-type {\n",
              "        vertical-align: middle;\n",
              "    }\n",
              "\n",
              "    .dataframe tbody tr th {\n",
              "        vertical-align: top;\n",
              "    }\n",
              "\n",
              "    .dataframe thead th {\n",
              "        text-align: right;\n",
              "    }\n",
              "</style>\n",
              "<table border=\"1\" class=\"dataframe\">\n",
              "  <thead>\n",
              "    <tr style=\"text-align: right;\">\n",
              "      <th></th>\n",
              "      <th>Season</th>\n",
              "      <th>Date</th>\n",
              "      <th>Away Team</th>\n",
              "      <th>Away 1st</th>\n",
              "      <th>Away 2nd</th>\n",
              "      <th>Away 3rd</th>\n",
              "      <th>Away 4th</th>\n",
              "      <th>Away Final</th>\n",
              "      <th>Away ML</th>\n",
              "      <th>Home Team</th>\n",
              "      <th>Home 1st</th>\n",
              "      <th>Home 2nd</th>\n",
              "      <th>Home 3rd</th>\n",
              "      <th>Home 4th</th>\n",
              "      <th>Home Final</th>\n",
              "      <th>Home ML</th>\n",
              "      <th>Home Favorite</th>\n",
              "      <th>Differential</th>\n",
              "    </tr>\n",
              "  </thead>\n",
              "  <tbody>\n",
              "    <tr>\n",
              "      <th>17333</th>\n",
              "      <td>2020-21</td>\n",
              "      <td>2021-04-19</td>\n",
              "      <td>OklahomaCity</td>\n",
              "      <td>25</td>\n",
              "      <td>33</td>\n",
              "      <td>21</td>\n",
              "      <td>28</td>\n",
              "      <td>107</td>\n",
              "      <td>650</td>\n",
              "      <td>Washington</td>\n",
              "      <td>38</td>\n",
              "      <td>26</td>\n",
              "      <td>24</td>\n",
              "      <td>31</td>\n",
              "      <td>119</td>\n",
              "      <td>-1000</td>\n",
              "      <td>1</td>\n",
              "      <td>12</td>\n",
              "    </tr>\n",
              "    <tr>\n",
              "      <th>17334</th>\n",
              "      <td>2020-21</td>\n",
              "      <td>2021-04-19</td>\n",
              "      <td>Phoenix</td>\n",
              "      <td>24</td>\n",
              "      <td>31</td>\n",
              "      <td>28</td>\n",
              "      <td>33</td>\n",
              "      <td>128</td>\n",
              "      <td>130</td>\n",
              "      <td>Milwaukee</td>\n",
              "      <td>25</td>\n",
              "      <td>29</td>\n",
              "      <td>36</td>\n",
              "      <td>26</td>\n",
              "      <td>127</td>\n",
              "      <td>-150</td>\n",
              "      <td>1</td>\n",
              "      <td>-1</td>\n",
              "    </tr>\n",
              "    <tr>\n",
              "      <th>17335</th>\n",
              "      <td>2020-21</td>\n",
              "      <td>2021-04-19</td>\n",
              "      <td>SanAntonio</td>\n",
              "      <td>36</td>\n",
              "      <td>19</td>\n",
              "      <td>27</td>\n",
              "      <td>27</td>\n",
              "      <td>109</td>\n",
              "      <td>-160</td>\n",
              "      <td>Indiana</td>\n",
              "      <td>21</td>\n",
              "      <td>23</td>\n",
              "      <td>22</td>\n",
              "      <td>28</td>\n",
              "      <td>94</td>\n",
              "      <td>140</td>\n",
              "      <td>0</td>\n",
              "      <td>15</td>\n",
              "    </tr>\n",
              "    <tr>\n",
              "      <th>17336</th>\n",
              "      <td>2020-21</td>\n",
              "      <td>2021-04-19</td>\n",
              "      <td>Memphis</td>\n",
              "      <td>35</td>\n",
              "      <td>25</td>\n",
              "      <td>35</td>\n",
              "      <td>21</td>\n",
              "      <td>137</td>\n",
              "      <td>280</td>\n",
              "      <td>Denver</td>\n",
              "      <td>27</td>\n",
              "      <td>29</td>\n",
              "      <td>31</td>\n",
              "      <td>29</td>\n",
              "      <td>139</td>\n",
              "      <td>-340</td>\n",
              "      <td>1</td>\n",
              "      <td>2</td>\n",
              "    </tr>\n",
              "    <tr>\n",
              "      <th>17337</th>\n",
              "      <td>2020-21</td>\n",
              "      <td>2021-04-19</td>\n",
              "      <td>Utah</td>\n",
              "      <td>29</td>\n",
              "      <td>23</td>\n",
              "      <td>33</td>\n",
              "      <td>26</td>\n",
              "      <td>111</td>\n",
              "      <td>-270</td>\n",
              "      <td>LALakers</td>\n",
              "      <td>23</td>\n",
              "      <td>19</td>\n",
              "      <td>23</td>\n",
              "      <td>32</td>\n",
              "      <td>97</td>\n",
              "      <td>230</td>\n",
              "      <td>0</td>\n",
              "      <td>14</td>\n",
              "    </tr>\n",
              "  </tbody>\n",
              "</table>\n",
              "</div>"
            ],
            "text/plain": [
              "        Season       Date     Away Team  ...  Home ML  Home Favorite  Differential\n",
              "17333  2020-21 2021-04-19  OklahomaCity  ...    -1000              1            12\n",
              "17334  2020-21 2021-04-19       Phoenix  ...     -150              1            -1\n",
              "17335  2020-21 2021-04-19    SanAntonio  ...      140              0            15\n",
              "17336  2020-21 2021-04-19       Memphis  ...     -340              1             2\n",
              "17337  2020-21 2021-04-19          Utah  ...      230              0            14\n",
              "\n",
              "[5 rows x 18 columns]"
            ]
          },
          "metadata": {
            "tags": []
          },
          "execution_count": 4
        }
      ]
    },
    {
      "cell_type": "code",
      "metadata": {
        "colab": {
          "base_uri": "https://localhost:8080/"
        },
        "id": "97c6_ax27LZW",
        "outputId": "5afefd8a-ed05-4327-a284-60dbbbc27d35"
      },
      "source": [
        "# Show Column Data Types\n",
        "matchups.info()"
      ],
      "execution_count": 5,
      "outputs": [
        {
          "output_type": "stream",
          "text": [
            "<class 'pandas.core.frame.DataFrame'>\n",
            "RangeIndex: 17338 entries, 0 to 17337\n",
            "Data columns (total 18 columns):\n",
            " #   Column         Non-Null Count  Dtype         \n",
            "---  ------         --------------  -----         \n",
            " 0   Season         17338 non-null  object        \n",
            " 1   Date           17338 non-null  datetime64[ns]\n",
            " 2   Away Team      17338 non-null  object        \n",
            " 3   Away 1st       17338 non-null  int64         \n",
            " 4   Away 2nd       17338 non-null  int64         \n",
            " 5   Away 3rd       17338 non-null  int64         \n",
            " 6   Away 4th       17338 non-null  int64         \n",
            " 7   Away Final     17338 non-null  int64         \n",
            " 8   Away ML        17338 non-null  int64         \n",
            " 9   Home Team      17338 non-null  object        \n",
            " 10  Home 1st       17338 non-null  int64         \n",
            " 11  Home 2nd       17338 non-null  int64         \n",
            " 12  Home 3rd       17338 non-null  int64         \n",
            " 13  Home 4th       17338 non-null  int64         \n",
            " 14  Home Final     17338 non-null  int64         \n",
            " 15  Home ML        17338 non-null  int64         \n",
            " 16  Home Favorite  17338 non-null  int64         \n",
            " 17  Differential   17338 non-null  int64         \n",
            "dtypes: datetime64[ns](1), int64(14), object(3)\n",
            "memory usage: 2.4+ MB\n"
          ],
          "name": "stdout"
        }
      ]
    },
    {
      "cell_type": "code",
      "metadata": {
        "colab": {
          "base_uri": "https://localhost:8080/"
        },
        "cellView": "code",
        "id": "8ao80z1g75ns",
        "outputId": "14737a98-99c6-4634-d53f-3c5fdca3136c"
      },
      "source": [
        "# Determine Margins\n",
        "num_margins = int (input('Total Number of Margins: '))\n",
        "ub = []\n",
        "lb = []\n",
        "margins = []\n",
        "for i in range(num_margins):\n",
        "  curr_lb = input('\\nLower Bound #' + str (i + 1) + ': ')\n",
        "  lb.append(curr_lb)\n",
        "  curr_ub =  input('Upper Bound #' + str (i + 1) + ': ')\n",
        "  ub.append(curr_ub)\n",
        "  if (curr_lb == '-'):\n",
        "    curr_margin = 'UND ' + str (int (curr_ub) * -1) + '+'\n",
        "  elif (curr_ub == '+'):\n",
        "    curr_margin = 'FAV ' + curr_lb + '+'\n",
        "  else:\n",
        "    if (int (curr_lb) < 0 and int (curr_ub) < 0):\n",
        "      curr_margin = 'UND ' + str (int (curr_ub) * -1) + '-' + str (int (curr_lb) * -1)\n",
        "    elif (int (curr_lb) < 0 and int (curr_ub) > 0):\n",
        "      curr_margin = 'UND ' + str (int (curr_lb) * -1) + '-' + 'FAV ' + curr_ub\n",
        "    elif (int (curr_lb) > 0 and int (curr_ub) > 0):\n",
        "      curr_margin = 'FAV ' + curr_lb + '-' + curr_ub\n",
        "  margins.append(curr_margin)\n",
        "print('\\nMargins:', margins)"
      ],
      "execution_count": 6,
      "outputs": [
        {
          "output_type": "stream",
          "text": [
            "Total Number of Margins: 7\n",
            "\n",
            "Lower Bound #1: -\n",
            "Upper Bound #1: -11\n",
            "\n",
            "Lower Bound #2: -10\n",
            "Upper Bound #2: -1\n",
            "\n",
            "Lower Bound #3: 1\n",
            "Upper Bound #3: 5\n",
            "\n",
            "Lower Bound #4: 6\n",
            "Upper Bound #4: 10\n",
            "\n",
            "Lower Bound #5: 11\n",
            "Upper Bound #5: 20\n",
            "\n",
            "Lower Bound #6: 21\n",
            "Upper Bound #6: 30\n",
            "\n",
            "Lower Bound #7: 31\n",
            "Upper Bound #7: +\n",
            "\n",
            "Margins: ['UND 11+', 'UND 1-10', 'FAV 1-5', 'FAV 6-10', 'FAV 11-20', 'FAV 21-30', 'FAV 31+']\n"
          ],
          "name": "stdout"
        }
      ]
    },
    {
      "cell_type": "code",
      "metadata": {
        "colab": {
          "base_uri": "https://localhost:8080/"
        },
        "id": "Fj7bIEZ47eod",
        "outputId": "25445094-b121-41b3-c2d5-a368bb6a7740"
      },
      "source": [
        "# Create ['Margin'] Column\n",
        "matchups['Margin'] = matchups['Differential'].astype('object')\n",
        "for m in range(len(matchups)):\n",
        "  curr_diff = matchups['Differential'][m]\n",
        "  for b in range(1, num_margins):\n",
        "    if (curr_diff <= int (lb[b])):\n",
        "      matchups['Margin'][m] = margins[b - 1]\n",
        "      break\n",
        "    elif (curr_diff > int (lb[-1])):\n",
        "      matchups['Margin'][m] = margins[-1]\n",
        "      break"
      ],
      "execution_count": 7,
      "outputs": [
        {
          "output_type": "stream",
          "text": [
            "/usr/local/lib/python3.7/dist-packages/ipykernel_launcher.py:7: SettingWithCopyWarning: \n",
            "A value is trying to be set on a copy of a slice from a DataFrame\n",
            "\n",
            "See the caveats in the documentation: https://pandas.pydata.org/pandas-docs/stable/user_guide/indexing.html#returning-a-view-versus-a-copy\n",
            "  import sys\n",
            "/usr/local/lib/python3.7/dist-packages/ipykernel_launcher.py:10: SettingWithCopyWarning: \n",
            "A value is trying to be set on a copy of a slice from a DataFrame\n",
            "\n",
            "See the caveats in the documentation: https://pandas.pydata.org/pandas-docs/stable/user_guide/indexing.html#returning-a-view-versus-a-copy\n",
            "  # Remove the CWD from sys.path while we load stuff.\n"
          ],
          "name": "stderr"
        }
      ]
    },
    {
      "cell_type": "code",
      "metadata": {
        "colab": {
          "base_uri": "https://localhost:8080/",
          "height": 306
        },
        "id": "QHxFgWwN7wq0",
        "outputId": "c9017c27-8218-4819-88ac-7fd23b843d42"
      },
      "source": [
        "# Show First 5 Matchups\n",
        "matchups.head()"
      ],
      "execution_count": 8,
      "outputs": [
        {
          "output_type": "execute_result",
          "data": {
            "text/html": [
              "<div>\n",
              "<style scoped>\n",
              "    .dataframe tbody tr th:only-of-type {\n",
              "        vertical-align: middle;\n",
              "    }\n",
              "\n",
              "    .dataframe tbody tr th {\n",
              "        vertical-align: top;\n",
              "    }\n",
              "\n",
              "    .dataframe thead th {\n",
              "        text-align: right;\n",
              "    }\n",
              "</style>\n",
              "<table border=\"1\" class=\"dataframe\">\n",
              "  <thead>\n",
              "    <tr style=\"text-align: right;\">\n",
              "      <th></th>\n",
              "      <th>Season</th>\n",
              "      <th>Date</th>\n",
              "      <th>Away Team</th>\n",
              "      <th>Away 1st</th>\n",
              "      <th>Away 2nd</th>\n",
              "      <th>Away 3rd</th>\n",
              "      <th>Away 4th</th>\n",
              "      <th>Away Final</th>\n",
              "      <th>Away ML</th>\n",
              "      <th>Home Team</th>\n",
              "      <th>Home 1st</th>\n",
              "      <th>Home 2nd</th>\n",
              "      <th>Home 3rd</th>\n",
              "      <th>Home 4th</th>\n",
              "      <th>Home Final</th>\n",
              "      <th>Home ML</th>\n",
              "      <th>Home Favorite</th>\n",
              "      <th>Differential</th>\n",
              "      <th>Margin</th>\n",
              "    </tr>\n",
              "  </thead>\n",
              "  <tbody>\n",
              "    <tr>\n",
              "      <th>0</th>\n",
              "      <td>2007-08</td>\n",
              "      <td>2007-10-30</td>\n",
              "      <td>Portland</td>\n",
              "      <td>26</td>\n",
              "      <td>23</td>\n",
              "      <td>28</td>\n",
              "      <td>20</td>\n",
              "      <td>97</td>\n",
              "      <td>900</td>\n",
              "      <td>SanAntonio</td>\n",
              "      <td>29</td>\n",
              "      <td>30</td>\n",
              "      <td>22</td>\n",
              "      <td>25</td>\n",
              "      <td>106</td>\n",
              "      <td>-1400</td>\n",
              "      <td>1</td>\n",
              "      <td>9</td>\n",
              "      <td>FAV 6-10</td>\n",
              "    </tr>\n",
              "    <tr>\n",
              "      <th>1</th>\n",
              "      <td>2007-08</td>\n",
              "      <td>2007-10-30</td>\n",
              "      <td>Utah</td>\n",
              "      <td>28</td>\n",
              "      <td>34</td>\n",
              "      <td>24</td>\n",
              "      <td>31</td>\n",
              "      <td>117</td>\n",
              "      <td>100</td>\n",
              "      <td>GoldenState</td>\n",
              "      <td>30</td>\n",
              "      <td>21</td>\n",
              "      <td>21</td>\n",
              "      <td>24</td>\n",
              "      <td>96</td>\n",
              "      <td>-120</td>\n",
              "      <td>1</td>\n",
              "      <td>-21</td>\n",
              "      <td>UND 11+</td>\n",
              "    </tr>\n",
              "    <tr>\n",
              "      <th>2</th>\n",
              "      <td>2007-08</td>\n",
              "      <td>2007-10-30</td>\n",
              "      <td>Houston</td>\n",
              "      <td>16</td>\n",
              "      <td>27</td>\n",
              "      <td>27</td>\n",
              "      <td>25</td>\n",
              "      <td>95</td>\n",
              "      <td>-230</td>\n",
              "      <td>LALakers</td>\n",
              "      <td>25</td>\n",
              "      <td>18</td>\n",
              "      <td>19</td>\n",
              "      <td>31</td>\n",
              "      <td>93</td>\n",
              "      <td>190</td>\n",
              "      <td>0</td>\n",
              "      <td>2</td>\n",
              "      <td>FAV 1-5</td>\n",
              "    </tr>\n",
              "    <tr>\n",
              "      <th>3</th>\n",
              "      <td>2007-08</td>\n",
              "      <td>2007-10-31</td>\n",
              "      <td>Philadelphia</td>\n",
              "      <td>22</td>\n",
              "      <td>28</td>\n",
              "      <td>17</td>\n",
              "      <td>30</td>\n",
              "      <td>97</td>\n",
              "      <td>255</td>\n",
              "      <td>Toronto</td>\n",
              "      <td>24</td>\n",
              "      <td>34</td>\n",
              "      <td>23</td>\n",
              "      <td>25</td>\n",
              "      <td>106</td>\n",
              "      <td>-305</td>\n",
              "      <td>1</td>\n",
              "      <td>9</td>\n",
              "      <td>FAV 6-10</td>\n",
              "    </tr>\n",
              "    <tr>\n",
              "      <th>4</th>\n",
              "      <td>2007-08</td>\n",
              "      <td>2007-10-31</td>\n",
              "      <td>Washington</td>\n",
              "      <td>23</td>\n",
              "      <td>22</td>\n",
              "      <td>25</td>\n",
              "      <td>33</td>\n",
              "      <td>110</td>\n",
              "      <td>-125</td>\n",
              "      <td>Indiana</td>\n",
              "      <td>28</td>\n",
              "      <td>20</td>\n",
              "      <td>22</td>\n",
              "      <td>33</td>\n",
              "      <td>119</td>\n",
              "      <td>105</td>\n",
              "      <td>0</td>\n",
              "      <td>-9</td>\n",
              "      <td>UND 1-10</td>\n",
              "    </tr>\n",
              "  </tbody>\n",
              "</table>\n",
              "</div>"
            ],
            "text/plain": [
              "    Season       Date     Away Team  ...  Home Favorite  Differential    Margin\n",
              "0  2007-08 2007-10-30      Portland  ...              1             9  FAV 6-10\n",
              "1  2007-08 2007-10-30          Utah  ...              1           -21   UND 11+\n",
              "2  2007-08 2007-10-30       Houston  ...              0             2   FAV 1-5\n",
              "3  2007-08 2007-10-31  Philadelphia  ...              1             9  FAV 6-10\n",
              "4  2007-08 2007-10-31    Washington  ...              0            -9  UND 1-10\n",
              "\n",
              "[5 rows x 19 columns]"
            ]
          },
          "metadata": {
            "tags": []
          },
          "execution_count": 8
        }
      ]
    },
    {
      "cell_type": "code",
      "metadata": {
        "colab": {
          "base_uri": "https://localhost:8080/"
        },
        "id": "bdrrkDIM7xvS",
        "outputId": "f4f89745-2be9-4420-fdd1-6a558e466fd1"
      },
      "source": [
        "# Show Column Data Types\n",
        "matchups.info()"
      ],
      "execution_count": 9,
      "outputs": [
        {
          "output_type": "stream",
          "text": [
            "<class 'pandas.core.frame.DataFrame'>\n",
            "RangeIndex: 17338 entries, 0 to 17337\n",
            "Data columns (total 19 columns):\n",
            " #   Column         Non-Null Count  Dtype         \n",
            "---  ------         --------------  -----         \n",
            " 0   Season         17338 non-null  object        \n",
            " 1   Date           17338 non-null  datetime64[ns]\n",
            " 2   Away Team      17338 non-null  object        \n",
            " 3   Away 1st       17338 non-null  int64         \n",
            " 4   Away 2nd       17338 non-null  int64         \n",
            " 5   Away 3rd       17338 non-null  int64         \n",
            " 6   Away 4th       17338 non-null  int64         \n",
            " 7   Away Final     17338 non-null  int64         \n",
            " 8   Away ML        17338 non-null  int64         \n",
            " 9   Home Team      17338 non-null  object        \n",
            " 10  Home 1st       17338 non-null  int64         \n",
            " 11  Home 2nd       17338 non-null  int64         \n",
            " 12  Home 3rd       17338 non-null  int64         \n",
            " 13  Home 4th       17338 non-null  int64         \n",
            " 14  Home Final     17338 non-null  int64         \n",
            " 15  Home ML        17338 non-null  int64         \n",
            " 16  Home Favorite  17338 non-null  int64         \n",
            " 17  Differential   17338 non-null  int64         \n",
            " 18  Margin         17338 non-null  object        \n",
            "dtypes: datetime64[ns](1), int64(14), object(4)\n",
            "memory usage: 2.5+ MB\n"
          ],
          "name": "stdout"
        }
      ]
    },
    {
      "cell_type": "code",
      "metadata": {
        "colab": {
          "base_uri": "https://localhost:8080/"
        },
        "id": "xA6ugS7u7zws",
        "outputId": "d21d0e86-73d7-4518-fb44-1ccd116e5589"
      },
      "source": [
        "# Create ['Favorite ML'] and ['Underdog ML'] Columns\n",
        "matchups['Favorite ML'] = matchups['Home ML'] \n",
        "matchups['Underdog ML'] = matchups['Home ML']\n",
        "for m in range(len(matchups)):\n",
        "  curr_away_ml = matchups['Away ML'][m]\n",
        "  curr_home_ml = matchups['Home ML'][m]\n",
        "  curr_fav_ml = np.array([curr_away_ml, curr_home_ml]).min()\n",
        "  curr_und_ml = np.array([curr_away_ml, curr_home_ml]).max()\n",
        "  matchups['Favorite ML'][m] = curr_fav_ml\n",
        "  matchups['Underdog ML'][m] = curr_und_ml"
      ],
      "execution_count": 10,
      "outputs": [
        {
          "output_type": "stream",
          "text": [
            "/usr/local/lib/python3.7/dist-packages/ipykernel_launcher.py:9: SettingWithCopyWarning: \n",
            "A value is trying to be set on a copy of a slice from a DataFrame\n",
            "\n",
            "See the caveats in the documentation: https://pandas.pydata.org/pandas-docs/stable/user_guide/indexing.html#returning-a-view-versus-a-copy\n",
            "  if __name__ == '__main__':\n",
            "/usr/local/lib/python3.7/dist-packages/ipykernel_launcher.py:10: SettingWithCopyWarning: \n",
            "A value is trying to be set on a copy of a slice from a DataFrame\n",
            "\n",
            "See the caveats in the documentation: https://pandas.pydata.org/pandas-docs/stable/user_guide/indexing.html#returning-a-view-versus-a-copy\n",
            "  # Remove the CWD from sys.path while we load stuff.\n"
          ],
          "name": "stderr"
        }
      ]
    },
    {
      "cell_type": "code",
      "metadata": {
        "colab": {
          "base_uri": "https://localhost:8080/",
          "height": 326
        },
        "id": "TC-ms-XdXtgQ",
        "outputId": "f7ebe5a4-931b-4558-b6c2-3776ab241a41"
      },
      "source": [
        "# Show First 5 Matchups\n",
        "matchups.head()"
      ],
      "execution_count": 11,
      "outputs": [
        {
          "output_type": "execute_result",
          "data": {
            "text/html": [
              "<div>\n",
              "<style scoped>\n",
              "    .dataframe tbody tr th:only-of-type {\n",
              "        vertical-align: middle;\n",
              "    }\n",
              "\n",
              "    .dataframe tbody tr th {\n",
              "        vertical-align: top;\n",
              "    }\n",
              "\n",
              "    .dataframe thead th {\n",
              "        text-align: right;\n",
              "    }\n",
              "</style>\n",
              "<table border=\"1\" class=\"dataframe\">\n",
              "  <thead>\n",
              "    <tr style=\"text-align: right;\">\n",
              "      <th></th>\n",
              "      <th>Season</th>\n",
              "      <th>Date</th>\n",
              "      <th>Away Team</th>\n",
              "      <th>Away 1st</th>\n",
              "      <th>Away 2nd</th>\n",
              "      <th>Away 3rd</th>\n",
              "      <th>Away 4th</th>\n",
              "      <th>Away Final</th>\n",
              "      <th>Away ML</th>\n",
              "      <th>Home Team</th>\n",
              "      <th>Home 1st</th>\n",
              "      <th>Home 2nd</th>\n",
              "      <th>Home 3rd</th>\n",
              "      <th>Home 4th</th>\n",
              "      <th>Home Final</th>\n",
              "      <th>Home ML</th>\n",
              "      <th>Home Favorite</th>\n",
              "      <th>Differential</th>\n",
              "      <th>Margin</th>\n",
              "      <th>Favorite ML</th>\n",
              "      <th>Underdog ML</th>\n",
              "    </tr>\n",
              "  </thead>\n",
              "  <tbody>\n",
              "    <tr>\n",
              "      <th>0</th>\n",
              "      <td>2007-08</td>\n",
              "      <td>2007-10-30</td>\n",
              "      <td>Portland</td>\n",
              "      <td>26</td>\n",
              "      <td>23</td>\n",
              "      <td>28</td>\n",
              "      <td>20</td>\n",
              "      <td>97</td>\n",
              "      <td>900</td>\n",
              "      <td>SanAntonio</td>\n",
              "      <td>29</td>\n",
              "      <td>30</td>\n",
              "      <td>22</td>\n",
              "      <td>25</td>\n",
              "      <td>106</td>\n",
              "      <td>-1400</td>\n",
              "      <td>1</td>\n",
              "      <td>9</td>\n",
              "      <td>FAV 6-10</td>\n",
              "      <td>-1400</td>\n",
              "      <td>900</td>\n",
              "    </tr>\n",
              "    <tr>\n",
              "      <th>1</th>\n",
              "      <td>2007-08</td>\n",
              "      <td>2007-10-30</td>\n",
              "      <td>Utah</td>\n",
              "      <td>28</td>\n",
              "      <td>34</td>\n",
              "      <td>24</td>\n",
              "      <td>31</td>\n",
              "      <td>117</td>\n",
              "      <td>100</td>\n",
              "      <td>GoldenState</td>\n",
              "      <td>30</td>\n",
              "      <td>21</td>\n",
              "      <td>21</td>\n",
              "      <td>24</td>\n",
              "      <td>96</td>\n",
              "      <td>-120</td>\n",
              "      <td>1</td>\n",
              "      <td>-21</td>\n",
              "      <td>UND 11+</td>\n",
              "      <td>-120</td>\n",
              "      <td>100</td>\n",
              "    </tr>\n",
              "    <tr>\n",
              "      <th>2</th>\n",
              "      <td>2007-08</td>\n",
              "      <td>2007-10-30</td>\n",
              "      <td>Houston</td>\n",
              "      <td>16</td>\n",
              "      <td>27</td>\n",
              "      <td>27</td>\n",
              "      <td>25</td>\n",
              "      <td>95</td>\n",
              "      <td>-230</td>\n",
              "      <td>LALakers</td>\n",
              "      <td>25</td>\n",
              "      <td>18</td>\n",
              "      <td>19</td>\n",
              "      <td>31</td>\n",
              "      <td>93</td>\n",
              "      <td>190</td>\n",
              "      <td>0</td>\n",
              "      <td>2</td>\n",
              "      <td>FAV 1-5</td>\n",
              "      <td>-230</td>\n",
              "      <td>190</td>\n",
              "    </tr>\n",
              "    <tr>\n",
              "      <th>3</th>\n",
              "      <td>2007-08</td>\n",
              "      <td>2007-10-31</td>\n",
              "      <td>Philadelphia</td>\n",
              "      <td>22</td>\n",
              "      <td>28</td>\n",
              "      <td>17</td>\n",
              "      <td>30</td>\n",
              "      <td>97</td>\n",
              "      <td>255</td>\n",
              "      <td>Toronto</td>\n",
              "      <td>24</td>\n",
              "      <td>34</td>\n",
              "      <td>23</td>\n",
              "      <td>25</td>\n",
              "      <td>106</td>\n",
              "      <td>-305</td>\n",
              "      <td>1</td>\n",
              "      <td>9</td>\n",
              "      <td>FAV 6-10</td>\n",
              "      <td>-305</td>\n",
              "      <td>255</td>\n",
              "    </tr>\n",
              "    <tr>\n",
              "      <th>4</th>\n",
              "      <td>2007-08</td>\n",
              "      <td>2007-10-31</td>\n",
              "      <td>Washington</td>\n",
              "      <td>23</td>\n",
              "      <td>22</td>\n",
              "      <td>25</td>\n",
              "      <td>33</td>\n",
              "      <td>110</td>\n",
              "      <td>-125</td>\n",
              "      <td>Indiana</td>\n",
              "      <td>28</td>\n",
              "      <td>20</td>\n",
              "      <td>22</td>\n",
              "      <td>33</td>\n",
              "      <td>119</td>\n",
              "      <td>105</td>\n",
              "      <td>0</td>\n",
              "      <td>-9</td>\n",
              "      <td>UND 1-10</td>\n",
              "      <td>-125</td>\n",
              "      <td>105</td>\n",
              "    </tr>\n",
              "  </tbody>\n",
              "</table>\n",
              "</div>"
            ],
            "text/plain": [
              "    Season       Date     Away Team  ...    Margin  Favorite ML  Underdog ML\n",
              "0  2007-08 2007-10-30      Portland  ...  FAV 6-10        -1400          900\n",
              "1  2007-08 2007-10-30          Utah  ...   UND 11+         -120          100\n",
              "2  2007-08 2007-10-30       Houston  ...   FAV 1-5         -230          190\n",
              "3  2007-08 2007-10-31  Philadelphia  ...  FAV 6-10         -305          255\n",
              "4  2007-08 2007-10-31    Washington  ...  UND 1-10         -125          105\n",
              "\n",
              "[5 rows x 21 columns]"
            ]
          },
          "metadata": {
            "tags": []
          },
          "execution_count": 11
        }
      ]
    },
    {
      "cell_type": "code",
      "metadata": {
        "colab": {
          "base_uri": "https://localhost:8080/"
        },
        "id": "nYG6DbiFZLRn",
        "outputId": "5f006a47-3f10-435d-8759-34956b3049b3"
      },
      "source": [
        "# Show Column Data Types\n",
        "matchups.info()"
      ],
      "execution_count": 12,
      "outputs": [
        {
          "output_type": "stream",
          "text": [
            "<class 'pandas.core.frame.DataFrame'>\n",
            "RangeIndex: 17338 entries, 0 to 17337\n",
            "Data columns (total 21 columns):\n",
            " #   Column         Non-Null Count  Dtype         \n",
            "---  ------         --------------  -----         \n",
            " 0   Season         17338 non-null  object        \n",
            " 1   Date           17338 non-null  datetime64[ns]\n",
            " 2   Away Team      17338 non-null  object        \n",
            " 3   Away 1st       17338 non-null  int64         \n",
            " 4   Away 2nd       17338 non-null  int64         \n",
            " 5   Away 3rd       17338 non-null  int64         \n",
            " 6   Away 4th       17338 non-null  int64         \n",
            " 7   Away Final     17338 non-null  int64         \n",
            " 8   Away ML        17338 non-null  int64         \n",
            " 9   Home Team      17338 non-null  object        \n",
            " 10  Home 1st       17338 non-null  int64         \n",
            " 11  Home 2nd       17338 non-null  int64         \n",
            " 12  Home 3rd       17338 non-null  int64         \n",
            " 13  Home 4th       17338 non-null  int64         \n",
            " 14  Home Final     17338 non-null  int64         \n",
            " 15  Home ML        17338 non-null  int64         \n",
            " 16  Home Favorite  17338 non-null  int64         \n",
            " 17  Differential   17338 non-null  int64         \n",
            " 18  Margin         17338 non-null  object        \n",
            " 19  Favorite ML    17338 non-null  int64         \n",
            " 20  Underdog ML    17338 non-null  int64         \n",
            "dtypes: datetime64[ns](1), int64(16), object(4)\n",
            "memory usage: 2.8+ MB\n"
          ],
          "name": "stdout"
        }
      ]
    },
    {
      "cell_type": "code",
      "metadata": {
        "colab": {
          "base_uri": "https://localhost:8080/",
          "height": 387
        },
        "id": "5D4H2x9BZfT0",
        "outputId": "8de6fc4b-c206-404c-d39e-24f403cb6b54"
      },
      "source": [
        "# Show ['Favorite ML'] and ['Underdog ML'] Distribution\n",
        "matchups[['Favorite ML', 'Underdog ML']].hist(figsize = (10, 5))"
      ],
      "execution_count": 13,
      "outputs": [
        {
          "output_type": "execute_result",
          "data": {
            "text/plain": [
              "array([[<matplotlib.axes._subplots.AxesSubplot object at 0x7f5ff91b0950>,\n",
              "        <matplotlib.axes._subplots.AxesSubplot object at 0x7f5ff924ec10>]],\n",
              "      dtype=object)"
            ]
          },
          "metadata": {
            "tags": []
          },
          "execution_count": 13
        },
        {
          "output_type": "display_data",
          "data": {
            "image/png": "[encoded data removed]",
            "text/plain": [
              "<Figure size 720x360 with 2 Axes>"
            ]
          },
          "metadata": {
            "tags": [],
            "needs_background": "light"
          }
        }
      ]
    },
    {
      "cell_type": "code",
      "metadata": {
        "id": "9xqtA2v5exSS"
      },
      "source": [
        "# Drop 'Outliers'\n",
        "matchups = matchups[matchups['Underdog ML'] >= -120]\n",
        "matchups = matchups[matchups['Underdog ML'] < matchups['Underdog ML'].quantile(.85)]\n",
        "matchups.reset_index(drop = True, inplace = True)"
      ],
      "execution_count": 14,
      "outputs": []
    },
    {
      "cell_type": "code",
      "metadata": {
        "colab": {
          "base_uri": "https://localhost:8080/",
          "height": 387
        },
        "id": "4z6ZNXMPgPZA",
        "outputId": "2309d920-5392-494d-9731-32dc477507cf"
      },
      "source": [
        "# Show ['Favorite ML'] and ['Underdog ML'] Distribution\n",
        "matchups[['Favorite ML', 'Underdog ML']].hist(figsize = (10, 5))"
      ],
      "execution_count": 15,
      "outputs": [
        {
          "output_type": "execute_result",
          "data": {
            "text/plain": [
              "array([[<matplotlib.axes._subplots.AxesSubplot object at 0x7f5ff8fc7190>,\n",
              "        <matplotlib.axes._subplots.AxesSubplot object at 0x7f5ff8aa6450>]],\n",
              "      dtype=object)"
            ]
          },
          "metadata": {
            "tags": []
          },
          "execution_count": 15
        },
        {
          "output_type": "display_data",
          "data": {
            "image/png": "[encoded data removed]",
            "text/plain": [
              "<Figure size 720x360 with 2 Axes>"
            ]
          },
          "metadata": {
            "tags": [],
            "needs_background": "light"
          }
        }
      ]
    },
    {
      "cell_type": "code",
      "metadata": {
        "colab": {
          "base_uri": "https://localhost:8080/"
        },
        "id": "_DyN90s-kkN_",
        "outputId": "c74afd39-88d2-4b6e-be00-dd0b94631f75"
      },
      "source": [
        "# Create ['Favorite/Underdog 1st'], ['Favorite/Underdog 2nd'], \n",
        "# ['Favorite/Underdog 3rd'], ['Favorite/Underdog 4th'], and \n",
        "# ['Favorite/Underdog Final'] Columns\n",
        "matchups['Favorite Team'] = matchups['Home Team'] \n",
        "matchups['Favorite 1st'] = matchups['Home 1st'] \n",
        "matchups['Favorite 2nd'] = matchups['Home 2nd'] \n",
        "matchups['Favorite 3rd'] = matchups['Home 3rd'] \n",
        "matchups['Favorite 4th'] = matchups['Home 4th'] \n",
        "matchups['Favorite Final'] = matchups['Home Final'] \n",
        "matchups['Underdog Team'] = matchups['Home Team'] \n",
        "matchups['Underdog 1st'] = matchups['Home 1st'] \n",
        "matchups['Underdog 2nd'] = matchups['Home 2nd'] \n",
        "matchups['Underdog 3rd'] = matchups['Home 3rd'] \n",
        "matchups['Underdog 4th'] = matchups['Home 4th'] \n",
        "matchups['Underdog Final'] = matchups['Home Final'] \n",
        "for m in range(len(matchups)):\n",
        "  curr_away_team = matchups['Away Team'].iloc[m] \n",
        "  curr_away_1st = matchups['Away 1st'].iloc[m]\n",
        "  curr_away_2nd = matchups['Away 2nd'].iloc[m]\n",
        "  curr_away_3rd = matchups['Away 3rd'].iloc[m]\n",
        "  curr_away_4th = matchups['Away 4th'].iloc[m]\n",
        "  curr_away_final = matchups['Away Final'].iloc[m]\n",
        "  curr_home_team = matchups['Home Team'].iloc[m] \n",
        "  curr_home_1st = matchups['Home 1st'].iloc[m]\n",
        "  curr_home_2nd = matchups['Home 2nd'].iloc[m]\n",
        "  curr_home_3rd = matchups['Home 3rd'].iloc[m]\n",
        "  curr_home_4th = matchups['Home 4th'].iloc[m]\n",
        "  curr_home_final = matchups['Home Final'].iloc[m]\n",
        "  if (matchups['Home Favorite'].iloc[m] == 1):\n",
        "    matchups['Favorite Team'].loc[m] = curr_home_team\n",
        "    matchups['Favorite 1st'].iloc[m] = curr_home_1st\n",
        "    matchups['Favorite 2nd'].iloc[m] = curr_home_2nd\n",
        "    matchups['Favorite 3rd'].iloc[m] = curr_home_3rd\n",
        "    matchups['Favorite 4th'].iloc[m] = curr_home_4th\n",
        "    matchups['Favorite Final'].iloc[m] = curr_home_final\n",
        "    matchups['Underdog Team'].loc[m] = curr_away_team\n",
        "    matchups['Underdog 1st'].iloc[m] = curr_away_1st\n",
        "    matchups['Underdog 2nd'].iloc[m] = curr_away_2nd\n",
        "    matchups['Underdog 3rd'].iloc[m] = curr_away_3rd\n",
        "    matchups['Underdog 4th'].iloc[m] = curr_away_4th \n",
        "    matchups['Underdog Final'].iloc[m] = curr_away_final\n",
        "  else:\n",
        "    matchups['Underdog Team'].loc[m] = curr_home_team\n",
        "    matchups['Underdog 1st'].iloc[m] = curr_home_1st\n",
        "    matchups['Underdog 2nd'].iloc[m] = curr_home_2nd\n",
        "    matchups['Underdog 3rd'].iloc[m] = curr_home_3rd\n",
        "    matchups['Underdog 4th'].iloc[m] = curr_home_4th\n",
        "    matchups['Underdog Final'].iloc[m] = curr_home_final\n",
        "    matchups['Favorite Team'].loc[m] = curr_away_team\n",
        "    matchups['Favorite 1st'].iloc[m] = curr_away_1st\n",
        "    matchups['Favorite 2nd'].iloc[m] = curr_away_2nd\n",
        "    matchups['Favorite 3rd'].iloc[m] = curr_away_3rd\n",
        "    matchups['Favorite 4th'].iloc[m] = curr_away_4th \n",
        "    matchups['Favorite Final'].iloc[m] = curr_away_final"
      ],
      "execution_count": 16,
      "outputs": [
        {
          "output_type": "stream",
          "text": [
            "/usr/local/lib/python3.7/dist-packages/pandas/core/indexing.py:670: SettingWithCopyWarning: \n",
            "A value is trying to be set on a copy of a slice from a DataFrame\n",
            "\n",
            "See the caveats in the documentation: https://pandas.pydata.org/pandas-docs/stable/user_guide/indexing.html#returning-a-view-versus-a-copy\n",
            "  iloc._setitem_with_indexer(indexer, value)\n"
          ],
          "name": "stderr"
        }
      ]
    },
    {
      "cell_type": "code",
      "metadata": {
        "id": "_8_TLMa-kj6L"
      },
      "source": [
        "# Drop ['Home/Away'] Columns\n",
        "matchups = matchups.drop(columns = ['Away Team', 'Away 1st', 'Away 2nd', \n",
        "                                    'Away 3rd', 'Away 4th', 'Away Final', \n",
        "                                    'Away ML', 'Home Team', 'Home 1st',\n",
        "                                    'Home 2nd', 'Home 3rd', 'Home 4th', \n",
        "                                    'Home Final', 'Home ML'])"
      ],
      "execution_count": 17,
      "outputs": []
    },
    {
      "cell_type": "code",
      "metadata": {
        "id": "KIf3dSovkjkg"
      },
      "source": [
        "# Reorder Columns\n",
        "matchups = matchups.reindex(['Season', 'Date', 'Favorite Team', 'Favorite ML', \n",
        "                    'Favorite 1st', 'Favorite 2nd', 'Favorite 3rd', \n",
        "                    'Favorite 4th', 'Favorite Final', 'Underdog Team', \n",
        "                    'Underdog ML', 'Underdog 1st', 'Underdog 2nd', \n",
        "                    'Underdog 3rd', 'Underdog 4th', 'Underdog Final', \n",
        "                    'Home Favorite', 'Differential', 'Margin'], axis = 'columns')"
      ],
      "execution_count": 18,
      "outputs": []
    },
    {
      "cell_type": "code",
      "metadata": {
        "colab": {
          "base_uri": "https://localhost:8080/"
        },
        "id": "jsKv6C-Bki1E",
        "outputId": "0ae937d1-e705-41bf-80a3-db10731aca22"
      },
      "source": [
        "# Show Column Data Types\n",
        "matchups.info()"
      ],
      "execution_count": 19,
      "outputs": [
        {
          "output_type": "stream",
          "text": [
            "<class 'pandas.core.frame.DataFrame'>\n",
            "RangeIndex: 14556 entries, 0 to 14555\n",
            "Data columns (total 19 columns):\n",
            " #   Column          Non-Null Count  Dtype         \n",
            "---  ------          --------------  -----         \n",
            " 0   Season          14556 non-null  object        \n",
            " 1   Date            14556 non-null  datetime64[ns]\n",
            " 2   Favorite Team   14556 non-null  object        \n",
            " 3   Favorite ML     14556 non-null  int64         \n",
            " 4   Favorite 1st    14556 non-null  int64         \n",
            " 5   Favorite 2nd    14556 non-null  int64         \n",
            " 6   Favorite 3rd    14556 non-null  int64         \n",
            " 7   Favorite 4th    14556 non-null  int64         \n",
            " 8   Favorite Final  14556 non-null  int64         \n",
            " 9   Underdog Team   14556 non-null  object        \n",
            " 10  Underdog ML     14556 non-null  int64         \n",
            " 11  Underdog 1st    14556 non-null  int64         \n",
            " 12  Underdog 2nd    14556 non-null  int64         \n",
            " 13  Underdog 3rd    14556 non-null  int64         \n",
            " 14  Underdog 4th    14556 non-null  int64         \n",
            " 15  Underdog Final  14556 non-null  int64         \n",
            " 16  Home Favorite   14556 non-null  int64         \n",
            " 17  Differential    14556 non-null  int64         \n",
            " 18  Margin          14556 non-null  object        \n",
            "dtypes: datetime64[ns](1), int64(14), object(4)\n",
            "memory usage: 2.1+ MB\n"
          ],
          "name": "stdout"
        }
      ]
    },
    {
      "cell_type": "code",
      "metadata": {
        "colab": {
          "base_uri": "https://localhost:8080/",
          "height": 896
        },
        "id": "p8h6SLgEhbFT",
        "outputId": "57e3c581-b134-4caf-92c4-434bff9c6ccb"
      },
      "source": [
        "# Show Matchups Distribution\n",
        "matchups.hist(figsize = (20, 10))"
      ],
      "execution_count": 20,
      "outputs": [
        {
          "output_type": "execute_result",
          "data": {
            "text/plain": [
              "array([[<matplotlib.axes._subplots.AxesSubplot object at 0x7f5ff7f57410>,\n",
              "        <matplotlib.axes._subplots.AxesSubplot object at 0x7f5ff7ebbc90>,\n",
              "        <matplotlib.axes._subplots.AxesSubplot object at 0x7f5ff7e817d0>,\n",
              "        <matplotlib.axes._subplots.AxesSubplot object at 0x7f5ff7e2de50>],\n",
              "       [<matplotlib.axes._subplots.AxesSubplot object at 0x7f5ff7deb550>,\n",
              "        <matplotlib.axes._subplots.AxesSubplot object at 0x7f5ff7e1ebd0>,\n",
              "        <matplotlib.axes._subplots.AxesSubplot object at 0x7f5ff7ddb310>,\n",
              "        <matplotlib.axes._subplots.AxesSubplot object at 0x7f5ff7d8d8d0>],\n",
              "       [<matplotlib.axes._subplots.AxesSubplot object at 0x7f5ff7d8d910>,\n",
              "        <matplotlib.axes._subplots.AxesSubplot object at 0x7f5ff7d4c0d0>,\n",
              "        <matplotlib.axes._subplots.AxesSubplot object at 0x7f5ff7cb0cd0>,\n",
              "        <matplotlib.axes._subplots.AxesSubplot object at 0x7f5ff7c72390>],\n",
              "       [<matplotlib.axes._subplots.AxesSubplot object at 0x7f5ff7c27a10>,\n",
              "        <matplotlib.axes._subplots.AxesSubplot object at 0x7f5ff7bea0d0>,\n",
              "        <matplotlib.axes._subplots.AxesSubplot object at 0x7f5ff7ba1750>,\n",
              "        <matplotlib.axes._subplots.AxesSubplot object at 0x7f5ff7bd4dd0>]],\n",
              "      dtype=object)"
            ]
          },
          "metadata": {
            "tags": []
          },
          "execution_count": 20
        },
        {
          "output_type": "display_data",
          "data": {
            "image/png": "[encoded data removed]",
            "text/plain": [
              "<Figure size 1440x720 with 16 Axes>"
            ]
          },
          "metadata": {
            "tags": [],
            "needs_background": "light"
          }
        }
      ]
    },
    {
      "cell_type": "code",
      "metadata": {
        "colab": {
          "base_uri": "https://localhost:8080/",
          "height": 326
        },
        "id": "aeRCBqiXkhvJ",
        "outputId": "b08a2d82-9cbf-4bb2-8ae0-2e571a26ec18"
      },
      "source": [
        "# Show First 5 Matchups\n",
        "matchups[:5]"
      ],
      "execution_count": 21,
      "outputs": [
        {
          "output_type": "execute_result",
          "data": {
            "text/html": [
              "<div>\n",
              "<style scoped>\n",
              "    .dataframe tbody tr th:only-of-type {\n",
              "        vertical-align: middle;\n",
              "    }\n",
              "\n",
              "    .dataframe tbody tr th {\n",
              "        vertical-align: top;\n",
              "    }\n",
              "\n",
              "    .dataframe thead th {\n",
              "        text-align: right;\n",
              "    }\n",
              "</style>\n",
              "<table border=\"1\" class=\"dataframe\">\n",
              "  <thead>\n",
              "    <tr style=\"text-align: right;\">\n",
              "      <th></th>\n",
              "      <th>Season</th>\n",
              "      <th>Date</th>\n",
              "      <th>Favorite Team</th>\n",
              "      <th>Favorite ML</th>\n",
              "      <th>Favorite 1st</th>\n",
              "      <th>Favorite 2nd</th>\n",
              "      <th>Favorite 3rd</th>\n",
              "      <th>Favorite 4th</th>\n",
              "      <th>Favorite Final</th>\n",
              "      <th>Underdog Team</th>\n",
              "      <th>Underdog ML</th>\n",
              "      <th>Underdog 1st</th>\n",
              "      <th>Underdog 2nd</th>\n",
              "      <th>Underdog 3rd</th>\n",
              "      <th>Underdog 4th</th>\n",
              "      <th>Underdog Final</th>\n",
              "      <th>Home Favorite</th>\n",
              "      <th>Differential</th>\n",
              "      <th>Margin</th>\n",
              "    </tr>\n",
              "  </thead>\n",
              "  <tbody>\n",
              "    <tr>\n",
              "      <th>0</th>\n",
              "      <td>2007-08</td>\n",
              "      <td>2007-10-30</td>\n",
              "      <td>GoldenState</td>\n",
              "      <td>-120</td>\n",
              "      <td>30</td>\n",
              "      <td>21</td>\n",
              "      <td>21</td>\n",
              "      <td>24</td>\n",
              "      <td>96</td>\n",
              "      <td>Utah</td>\n",
              "      <td>100</td>\n",
              "      <td>28</td>\n",
              "      <td>34</td>\n",
              "      <td>24</td>\n",
              "      <td>31</td>\n",
              "      <td>117</td>\n",
              "      <td>1</td>\n",
              "      <td>-21</td>\n",
              "      <td>UND 11+</td>\n",
              "    </tr>\n",
              "    <tr>\n",
              "      <th>1</th>\n",
              "      <td>2007-08</td>\n",
              "      <td>2007-10-30</td>\n",
              "      <td>Houston</td>\n",
              "      <td>-230</td>\n",
              "      <td>16</td>\n",
              "      <td>27</td>\n",
              "      <td>27</td>\n",
              "      <td>25</td>\n",
              "      <td>95</td>\n",
              "      <td>LALakers</td>\n",
              "      <td>190</td>\n",
              "      <td>25</td>\n",
              "      <td>18</td>\n",
              "      <td>19</td>\n",
              "      <td>31</td>\n",
              "      <td>93</td>\n",
              "      <td>0</td>\n",
              "      <td>2</td>\n",
              "      <td>FAV 1-5</td>\n",
              "    </tr>\n",
              "    <tr>\n",
              "      <th>2</th>\n",
              "      <td>2007-08</td>\n",
              "      <td>2007-10-31</td>\n",
              "      <td>Toronto</td>\n",
              "      <td>-305</td>\n",
              "      <td>24</td>\n",
              "      <td>34</td>\n",
              "      <td>23</td>\n",
              "      <td>25</td>\n",
              "      <td>106</td>\n",
              "      <td>Philadelphia</td>\n",
              "      <td>255</td>\n",
              "      <td>22</td>\n",
              "      <td>28</td>\n",
              "      <td>17</td>\n",
              "      <td>30</td>\n",
              "      <td>97</td>\n",
              "      <td>1</td>\n",
              "      <td>9</td>\n",
              "      <td>FAV 6-10</td>\n",
              "    </tr>\n",
              "    <tr>\n",
              "      <th>3</th>\n",
              "      <td>2007-08</td>\n",
              "      <td>2007-10-31</td>\n",
              "      <td>Washington</td>\n",
              "      <td>-125</td>\n",
              "      <td>23</td>\n",
              "      <td>22</td>\n",
              "      <td>25</td>\n",
              "      <td>33</td>\n",
              "      <td>110</td>\n",
              "      <td>Indiana</td>\n",
              "      <td>105</td>\n",
              "      <td>28</td>\n",
              "      <td>20</td>\n",
              "      <td>22</td>\n",
              "      <td>33</td>\n",
              "      <td>119</td>\n",
              "      <td>0</td>\n",
              "      <td>-9</td>\n",
              "      <td>UND 1-10</td>\n",
              "    </tr>\n",
              "    <tr>\n",
              "      <th>4</th>\n",
              "      <td>2007-08</td>\n",
              "      <td>2007-10-31</td>\n",
              "      <td>Orlando</td>\n",
              "      <td>-295</td>\n",
              "      <td>24</td>\n",
              "      <td>24</td>\n",
              "      <td>35</td>\n",
              "      <td>19</td>\n",
              "      <td>102</td>\n",
              "      <td>Milwaukee</td>\n",
              "      <td>245</td>\n",
              "      <td>24</td>\n",
              "      <td>22</td>\n",
              "      <td>16</td>\n",
              "      <td>21</td>\n",
              "      <td>83</td>\n",
              "      <td>1</td>\n",
              "      <td>19</td>\n",
              "      <td>FAV 11-20</td>\n",
              "    </tr>\n",
              "  </tbody>\n",
              "</table>\n",
              "</div>"
            ],
            "text/plain": [
              "    Season       Date Favorite Team  ...  Home Favorite  Differential     Margin\n",
              "0  2007-08 2007-10-30   GoldenState  ...              1           -21    UND 11+\n",
              "1  2007-08 2007-10-30       Houston  ...              0             2    FAV 1-5\n",
              "2  2007-08 2007-10-31       Toronto  ...              1             9   FAV 6-10\n",
              "3  2007-08 2007-10-31    Washington  ...              0            -9   UND 1-10\n",
              "4  2007-08 2007-10-31       Orlando  ...              1            19  FAV 11-20\n",
              "\n",
              "[5 rows x 19 columns]"
            ]
          },
          "metadata": {
            "tags": []
          },
          "execution_count": 21
        }
      ]
    },
    {
      "cell_type": "code",
      "metadata": {
        "colab": {
          "base_uri": "https://localhost:8080/"
        },
        "id": "3IidtaW_hhv7",
        "outputId": "43dbe864-145e-4dc8-cd63-c2df21629e94"
      },
      "source": [
        "# Split X and Y Data\n",
        "x_data = matchups[['Season', 'Date', 'Favorite Team', 'Favorite ML', \n",
        "                         'Favorite 1st', 'Favorite 2nd', 'Favorite 3rd', \n",
        "                         'Favorite 4th', 'Favorite Final', 'Underdog Team', \n",
        "                         'Underdog ML', 'Underdog 1st', 'Underdog 2nd',\n",
        "                         'Underdog 3rd', 'Underdog 4th', 'Underdog Final', \n",
        "                         'Home Favorite']]\n",
        "y_data = matchups[['Differential', 'Margin']]\n",
        "x_data.shape, y_data.shape"
      ],
      "execution_count": 22,
      "outputs": [
        {
          "output_type": "execute_result",
          "data": {
            "text/plain": [
              "((14556, 17), (14556, 2))"
            ]
          },
          "metadata": {
            "tags": []
          },
          "execution_count": 22
        }
      ]
    },
    {
      "cell_type": "code",
      "metadata": {
        "id": "uR1r1S8lymM_"
      },
      "source": [
        "# Drop Quarters Data\n",
        "x_data = x_data.drop(columns = ['Favorite 1st', 'Favorite 2nd', \n",
        "                                    'Favorite 3rd', 'Favorite 4th', \n",
        "                                    'Favorite Final', 'Underdog 1st', \n",
        "                                    'Underdog 2nd', 'Underdog 3rd', \n",
        "                                    'Underdog 4th', 'Underdog Final'])"
      ],
      "execution_count": 23,
      "outputs": []
    },
    {
      "cell_type": "code",
      "metadata": {
        "id": "jEi90uiewW9X"
      },
      "source": [
        "# Drop ['Season'] and ['Date'] Columns\n",
        "x_data = x_data.drop(columns = ['Season', 'Date'])"
      ],
      "execution_count": 24,
      "outputs": []
    },
    {
      "cell_type": "code",
      "metadata": {
        "id": "k1jYOvBo08HU"
      },
      "source": [
        "# Drop ['Favorite/Underdog Team'] Columns\n",
        "x_data = x_data.drop(columns = ['Favorite Team', 'Underdog Team'])"
      ],
      "execution_count": 25,
      "outputs": []
    },
    {
      "cell_type": "code",
      "metadata": {
        "colab": {
          "base_uri": "https://localhost:8080/"
        },
        "id": "mk-B_7-xvymS",
        "outputId": "bbc2f987-b1a7-4172-a8d7-13ce528f6658"
      },
      "source": [
        "# Split X and Y into Train, Valid, Test, and Pred Sets\n",
        "x_train, x_test_full, y_train, y_test_full = train_test_split(x_data, y_data, train_size = 0.5, shuffle = False)\n",
        "x_valid, x_test, y_valid, y_test = train_test_split(x_test_full, y_test_full, train_size = 0.6, shuffle = False)\n",
        "x_test, x_pred, y_test, y_true = train_test_split(x_test, y_test, test_size = 3, shuffle = False)\n",
        "print('X Data:', x_train.shape, x_valid.shape, x_test.shape, x_pred.shape)\n",
        "print('Y Data:', y_train.shape, y_valid.shape, y_test.shape, y_true.shape)"
      ],
      "execution_count": 26,
      "outputs": [
        {
          "output_type": "stream",
          "text": [
            "X Data: (7278, 3) (4366, 3) (2909, 3) (3, 3)\n",
            "Y Data: (7278, 2) (4366, 2) (2909, 2) (3, 2)\n"
          ],
          "name": "stdout"
        }
      ]
    },
    {
      "cell_type": "code",
      "metadata": {
        "id": "J61ryQ-VzWD6"
      },
      "source": [
        "# Create Data Transformation Pipeline\n",
        "x_cat_attribs = []\n",
        "x_num_attribs = ['Favorite ML', 'Underdog ML', 'Home Favorite']\n",
        "x_num_pipeline = Pipeline( [\n",
        " ('minmax_scaler', MinMaxScaler()),   \n",
        "])\n",
        "x_cat_pipeline = Pipeline( [\n",
        " ('ohe', OneHotEncoder()),                          \n",
        "])\n",
        "x_full_pipeline = ColumnTransformer( [\n",
        "    ('x_num', x_num_pipeline, x_num_attribs),\n",
        "    ('x_cat', x_cat_pipeline, x_cat_attribs),\n",
        "])"
      ],
      "execution_count": 27,
      "outputs": []
    },
    {
      "cell_type": "code",
      "metadata": {
        "id": "DhF3U9xIzyyj"
      },
      "source": [
        "# Transform X Train, Valid, Test, and Pred Data Sets\n",
        "x_train_trans = x_full_pipeline.fit_transform(x_train)\n",
        "x_train_trans = x_train_trans.reshape(x_train_trans.shape[0], x_train_trans.shape[1], 1)\n",
        "x_valid_trans = x_full_pipeline.transform(x_valid)\n",
        "x_valid_trans = x_valid_trans.reshape(x_valid_trans.shape[0], x_valid_trans.shape[1], 1)\n",
        "x_test_trans = x_full_pipeline.transform(x_test)\n",
        "x_test_trans = x_test_trans.reshape(x_test_trans.shape[0], x_test_trans.shape[1], 1)\n",
        "x_pred_trans = x_full_pipeline.transform(x_pred)\n",
        "x_pred_trans = x_pred_trans.reshape(x_pred_trans.shape[0], x_pred_trans.shape[1], 1)"
      ],
      "execution_count": 28,
      "outputs": []
    },
    {
      "cell_type": "code",
      "metadata": {
        "id": "UShgQo2p0nZh"
      },
      "source": [
        "# Scale ['Differential'] Column\n",
        "y_scaler = MinMaxScaler()\n",
        "y_train_scaled = y_scaler.fit_transform(y_train[['Differential']]).reshape(-1, 1)\n",
        "y_valid_scaled = y_scaler.transform(y_valid[['Differential']]).reshape(-1, 1)\n",
        "y_test_scaled = y_scaler.transform(y_test[['Differential']]).reshape(-1, 1)\n",
        "y_true_scaled = y_scaler.transform(y_true[['Differential']]).reshape(-1, 1)"
      ],
      "execution_count": 29,
      "outputs": []
    },
    {
      "cell_type": "code",
      "metadata": {
        "id": "z4ncKuvJ1tb4"
      },
      "source": [
        "# Transform ['Margin'] Column\n",
        "y_transformer = LabelEncoder()\n",
        "y_train_trans = y_transformer.fit_transform(y_train['Margin']).reshape(-1, 1)\n",
        "y_valid_trans = y_transformer.transform(y_valid['Margin']).reshape(-1, 1)\n",
        "y_test_trans = y_transformer.transform(y_test['Margin']).reshape(-1, 1)\n",
        "y_true_trans = y_transformer.transform(y_true['Margin']).reshape(-1, 1)"
      ],
      "execution_count": 30,
      "outputs": []
    },
    {
      "cell_type": "code",
      "metadata": {
        "id": "rK88Kd0fnVQ8"
      },
      "source": [
        "# Create a Baseline\n",
        "baseline = []\n",
        "for i in range(1, num_margins + 1):\n",
        "  acc = round(i / num_margins, 2)\n",
        "  baseline.append(acc)"
      ],
      "execution_count": 31,
      "outputs": []
    },
    {
      "cell_type": "code",
      "metadata": {
        "id": "wdeJ_zyl3SRT"
      },
      "source": [
        "# Define Early Stopping\n",
        "early_stopping = keras.callbacks.EarlyStopping(monitor=\"val_loss\", patience=15, mode='min')"
      ],
      "execution_count": 32,
      "outputs": []
    },
    {
      "cell_type": "code",
      "metadata": {
        "id": "OU5j32aeZrFR"
      },
      "source": [
        "#starting by setting random seeds and restarting keras blackend session\n",
        "np.random.seed(42)\n",
        "tf.random.set_seed(42)\n",
        "\n",
        "#resets the Keras global state - helps avoid clutter from old models and layers, especially when memory is limited\n",
        "keras.backend.clear_session()"
      ],
      "execution_count": 33,
      "outputs": []
    },
    {
      "cell_type": "code",
      "metadata": {
        "colab": {
          "base_uri": "https://localhost:8080/"
        },
        "id": "XYXs-g6f4fxy",
        "outputId": "09929228-02d5-45bf-de79-44f6b645f057"
      },
      "source": [
        "# Create Simple Multiclassification Model (Neaural Networks)\n",
        "model = Sequential()\n",
        "model.add(Flatten())\n",
        "model.add(Dense(num_margins, activation='softmax'))\n",
        "model.compile(loss='sparse_categorical_crossentropy', optimizer=keras.optimizers.Adam(lr=0.001658), metrics = ['accuracy'])\n",
        "history = model.fit(x_train_trans, y_train_trans, epochs=500, batch_size = 150,\n",
        "                    validation_data=(x_valid_trans, y_valid_trans), callbacks = early_stopping)"
      ],
      "execution_count": 34,
      "outputs": [
        {
          "output_type": "stream",
          "text": [
            "Epoch 1/500\n",
            "49/49 [==============================] - 1s 12ms/step - loss: 1.9746 - accuracy: 0.1757 - val_loss: 1.9077 - val_accuracy: 0.1757\n",
            "Epoch 2/500\n",
            "49/49 [==============================] - 0s 3ms/step - loss: 1.9006 - accuracy: 0.1886 - val_loss: 1.8548 - val_accuracy: 0.2107\n",
            "Epoch 3/500\n",
            "49/49 [==============================] - 0s 3ms/step - loss: 1.8382 - accuracy: 0.2033 - val_loss: 1.8253 - val_accuracy: 0.2135\n",
            "Epoch 4/500\n",
            "49/49 [==============================] - 0s 3ms/step - loss: 1.8154 - accuracy: 0.2055 - val_loss: 1.8085 - val_accuracy: 0.2142\n",
            "Epoch 5/500\n",
            "49/49 [==============================] - 0s 2ms/step - loss: 1.8026 - accuracy: 0.2167 - val_loss: 1.7978 - val_accuracy: 0.2437\n",
            "Epoch 6/500\n",
            "49/49 [==============================] - 0s 3ms/step - loss: 1.7882 - accuracy: 0.2493 - val_loss: 1.7914 - val_accuracy: 0.2510\n",
            "Epoch 7/500\n",
            "49/49 [==============================] - 0s 3ms/step - loss: 1.7813 - accuracy: 0.2465 - val_loss: 1.7866 - val_accuracy: 0.2517\n",
            "Epoch 8/500\n",
            "49/49 [==============================] - 0s 2ms/step - loss: 1.7815 - accuracy: 0.2506 - val_loss: 1.7832 - val_accuracy: 0.2529\n",
            "Epoch 9/500\n",
            "49/49 [==============================] - 0s 2ms/step - loss: 1.7721 - accuracy: 0.2460 - val_loss: 1.7805 - val_accuracy: 0.2522\n",
            "Epoch 10/500\n",
            "49/49 [==============================] - 0s 3ms/step - loss: 1.7767 - accuracy: 0.2508 - val_loss: 1.7784 - val_accuracy: 0.2524\n",
            "Epoch 11/500\n",
            "49/49 [==============================] - 0s 3ms/step - loss: 1.7728 - accuracy: 0.2595 - val_loss: 1.7763 - val_accuracy: 0.2538\n",
            "Epoch 12/500\n",
            "49/49 [==============================] - 0s 3ms/step - loss: 1.7642 - accuracy: 0.2557 - val_loss: 1.7748 - val_accuracy: 0.2533\n",
            "Epoch 13/500\n",
            "49/49 [==============================] - 0s 3ms/step - loss: 1.7653 - accuracy: 0.2470 - val_loss: 1.7736 - val_accuracy: 0.2540\n",
            "Epoch 14/500\n",
            "49/49 [==============================] - 0s 3ms/step - loss: 1.7711 - accuracy: 0.2422 - val_loss: 1.7724 - val_accuracy: 0.2524\n",
            "Epoch 15/500\n",
            "49/49 [==============================] - 0s 3ms/step - loss: 1.7564 - accuracy: 0.2555 - val_loss: 1.7714 - val_accuracy: 0.2524\n",
            "Epoch 16/500\n",
            "49/49 [==============================] - 0s 3ms/step - loss: 1.7571 - accuracy: 0.2633 - val_loss: 1.7705 - val_accuracy: 0.2515\n",
            "Epoch 17/500\n",
            "49/49 [==============================] - 0s 3ms/step - loss: 1.7543 - accuracy: 0.2522 - val_loss: 1.7697 - val_accuracy: 0.2515\n",
            "Epoch 18/500\n",
            "49/49 [==============================] - 0s 3ms/step - loss: 1.7534 - accuracy: 0.2602 - val_loss: 1.7692 - val_accuracy: 0.2519\n",
            "Epoch 19/500\n",
            "49/49 [==============================] - 0s 3ms/step - loss: 1.7635 - accuracy: 0.2573 - val_loss: 1.7685 - val_accuracy: 0.2519\n",
            "Epoch 20/500\n",
            "49/49 [==============================] - 0s 3ms/step - loss: 1.7552 - accuracy: 0.2512 - val_loss: 1.7682 - val_accuracy: 0.2545\n",
            "Epoch 21/500\n",
            "49/49 [==============================] - 0s 3ms/step - loss: 1.7614 - accuracy: 0.2506 - val_loss: 1.7677 - val_accuracy: 0.2556\n",
            "Epoch 22/500\n",
            "49/49 [==============================] - 0s 3ms/step - loss: 1.7572 - accuracy: 0.2535 - val_loss: 1.7673 - val_accuracy: 0.2556\n",
            "Epoch 23/500\n",
            "49/49 [==============================] - 0s 3ms/step - loss: 1.7471 - accuracy: 0.2707 - val_loss: 1.7668 - val_accuracy: 0.2586\n",
            "Epoch 24/500\n",
            "49/49 [==============================] - 0s 2ms/step - loss: 1.7524 - accuracy: 0.2646 - val_loss: 1.7666 - val_accuracy: 0.2577\n",
            "Epoch 25/500\n",
            "49/49 [==============================] - 0s 3ms/step - loss: 1.7583 - accuracy: 0.2501 - val_loss: 1.7662 - val_accuracy: 0.2577\n",
            "Epoch 26/500\n",
            "49/49 [==============================] - 0s 3ms/step - loss: 1.7581 - accuracy: 0.2579 - val_loss: 1.7660 - val_accuracy: 0.2572\n",
            "Epoch 27/500\n",
            "49/49 [==============================] - 0s 2ms/step - loss: 1.7602 - accuracy: 0.2585 - val_loss: 1.7658 - val_accuracy: 0.2581\n",
            "Epoch 28/500\n",
            "49/49 [==============================] - 0s 2ms/step - loss: 1.7486 - accuracy: 0.2627 - val_loss: 1.7656 - val_accuracy: 0.2572\n",
            "Epoch 29/500\n",
            "49/49 [==============================] - 0s 3ms/step - loss: 1.7500 - accuracy: 0.2692 - val_loss: 1.7653 - val_accuracy: 0.2581\n",
            "Epoch 30/500\n",
            "49/49 [==============================] - 0s 3ms/step - loss: 1.7453 - accuracy: 0.2686 - val_loss: 1.7651 - val_accuracy: 0.2572\n",
            "Epoch 31/500\n",
            "49/49 [==============================] - 0s 3ms/step - loss: 1.7496 - accuracy: 0.2619 - val_loss: 1.7650 - val_accuracy: 0.2570\n",
            "Epoch 32/500\n",
            "49/49 [==============================] - 0s 2ms/step - loss: 1.7535 - accuracy: 0.2648 - val_loss: 1.7648 - val_accuracy: 0.2574\n",
            "Epoch 33/500\n",
            "49/49 [==============================] - 0s 3ms/step - loss: 1.7524 - accuracy: 0.2626 - val_loss: 1.7645 - val_accuracy: 0.2570\n",
            "Epoch 34/500\n",
            "49/49 [==============================] - 0s 3ms/step - loss: 1.7466 - accuracy: 0.2667 - val_loss: 1.7643 - val_accuracy: 0.2574\n",
            "Epoch 35/500\n",
            "49/49 [==============================] - 0s 3ms/step - loss: 1.7511 - accuracy: 0.2594 - val_loss: 1.7643 - val_accuracy: 0.2574\n",
            "Epoch 36/500\n",
            "49/49 [==============================] - 0s 3ms/step - loss: 1.7529 - accuracy: 0.2589 - val_loss: 1.7641 - val_accuracy: 0.2570\n",
            "Epoch 37/500\n",
            "49/49 [==============================] - 0s 3ms/step - loss: 1.7469 - accuracy: 0.2643 - val_loss: 1.7643 - val_accuracy: 0.2568\n",
            "Epoch 38/500\n",
            "49/49 [==============================] - 0s 2ms/step - loss: 1.7502 - accuracy: 0.2631 - val_loss: 1.7639 - val_accuracy: 0.2563\n",
            "Epoch 39/500\n",
            "49/49 [==============================] - 0s 3ms/step - loss: 1.7426 - accuracy: 0.2680 - val_loss: 1.7638 - val_accuracy: 0.2574\n",
            "Epoch 40/500\n",
            "49/49 [==============================] - 0s 3ms/step - loss: 1.7526 - accuracy: 0.2620 - val_loss: 1.7638 - val_accuracy: 0.2579\n",
            "Epoch 41/500\n",
            "49/49 [==============================] - 0s 2ms/step - loss: 1.7468 - accuracy: 0.2645 - val_loss: 1.7637 - val_accuracy: 0.2572\n",
            "Epoch 42/500\n",
            "49/49 [==============================] - 0s 3ms/step - loss: 1.7522 - accuracy: 0.2606 - val_loss: 1.7636 - val_accuracy: 0.2595\n",
            "Epoch 43/500\n",
            "49/49 [==============================] - 0s 3ms/step - loss: 1.7430 - accuracy: 0.2704 - val_loss: 1.7636 - val_accuracy: 0.2584\n",
            "Epoch 44/500\n",
            "49/49 [==============================] - 0s 3ms/step - loss: 1.7408 - accuracy: 0.2601 - val_loss: 1.7636 - val_accuracy: 0.2593\n",
            "Epoch 45/500\n",
            "49/49 [==============================] - 0s 3ms/step - loss: 1.7508 - accuracy: 0.2609 - val_loss: 1.7632 - val_accuracy: 0.2590\n",
            "Epoch 46/500\n",
            "49/49 [==============================] - 0s 2ms/step - loss: 1.7377 - accuracy: 0.2700 - val_loss: 1.7634 - val_accuracy: 0.2574\n",
            "Epoch 47/500\n",
            "49/49 [==============================] - 0s 3ms/step - loss: 1.7420 - accuracy: 0.2637 - val_loss: 1.7633 - val_accuracy: 0.2597\n",
            "Epoch 48/500\n",
            "49/49 [==============================] - 0s 2ms/step - loss: 1.7448 - accuracy: 0.2654 - val_loss: 1.7632 - val_accuracy: 0.2595\n",
            "Epoch 49/500\n",
            "49/49 [==============================] - 0s 2ms/step - loss: 1.7519 - accuracy: 0.2656 - val_loss: 1.7633 - val_accuracy: 0.2593\n",
            "Epoch 50/500\n",
            "49/49 [==============================] - 0s 3ms/step - loss: 1.7511 - accuracy: 0.2649 - val_loss: 1.7631 - val_accuracy: 0.2600\n",
            "Epoch 51/500\n",
            "49/49 [==============================] - 0s 3ms/step - loss: 1.7464 - accuracy: 0.2647 - val_loss: 1.7631 - val_accuracy: 0.2588\n",
            "Epoch 52/500\n",
            "49/49 [==============================] - 0s 3ms/step - loss: 1.7387 - accuracy: 0.2618 - val_loss: 1.7630 - val_accuracy: 0.2604\n",
            "Epoch 53/500\n",
            "49/49 [==============================] - 0s 3ms/step - loss: 1.7487 - accuracy: 0.2627 - val_loss: 1.7631 - val_accuracy: 0.2607\n",
            "Epoch 54/500\n",
            "49/49 [==============================] - 0s 2ms/step - loss: 1.7381 - accuracy: 0.2677 - val_loss: 1.7630 - val_accuracy: 0.2604\n",
            "Epoch 55/500\n",
            "49/49 [==============================] - 0s 2ms/step - loss: 1.7437 - accuracy: 0.2629 - val_loss: 1.7631 - val_accuracy: 0.2613\n",
            "Epoch 56/500\n",
            "49/49 [==============================] - 0s 2ms/step - loss: 1.7464 - accuracy: 0.2600 - val_loss: 1.7630 - val_accuracy: 0.2602\n",
            "Epoch 57/500\n",
            "49/49 [==============================] - 0s 3ms/step - loss: 1.7445 - accuracy: 0.2667 - val_loss: 1.7630 - val_accuracy: 0.2611\n",
            "Epoch 58/500\n",
            "49/49 [==============================] - 0s 2ms/step - loss: 1.7414 - accuracy: 0.2630 - val_loss: 1.7629 - val_accuracy: 0.2616\n",
            "Epoch 59/500\n",
            "49/49 [==============================] - 0s 3ms/step - loss: 1.7406 - accuracy: 0.2667 - val_loss: 1.7630 - val_accuracy: 0.2611\n",
            "Epoch 60/500\n",
            "49/49 [==============================] - 0s 2ms/step - loss: 1.7428 - accuracy: 0.2710 - val_loss: 1.7630 - val_accuracy: 0.2616\n",
            "Epoch 61/500\n",
            "49/49 [==============================] - 0s 3ms/step - loss: 1.7514 - accuracy: 0.2592 - val_loss: 1.7627 - val_accuracy: 0.2609\n",
            "Epoch 62/500\n",
            "49/49 [==============================] - 0s 2ms/step - loss: 1.7521 - accuracy: 0.2616 - val_loss: 1.7629 - val_accuracy: 0.2620\n",
            "Epoch 63/500\n",
            "49/49 [==============================] - 0s 2ms/step - loss: 1.7503 - accuracy: 0.2609 - val_loss: 1.7628 - val_accuracy: 0.2609\n",
            "Epoch 64/500\n",
            "49/49 [==============================] - 0s 2ms/step - loss: 1.7471 - accuracy: 0.2694 - val_loss: 1.7631 - val_accuracy: 0.2609\n",
            "Epoch 65/500\n",
            "49/49 [==============================] - 0s 2ms/step - loss: 1.7444 - accuracy: 0.2672 - val_loss: 1.7631 - val_accuracy: 0.2618\n",
            "Epoch 66/500\n",
            "49/49 [==============================] - 0s 3ms/step - loss: 1.7344 - accuracy: 0.2684 - val_loss: 1.7628 - val_accuracy: 0.2618\n",
            "Epoch 67/500\n",
            "49/49 [==============================] - 0s 3ms/step - loss: 1.7446 - accuracy: 0.2594 - val_loss: 1.7628 - val_accuracy: 0.2618\n",
            "Epoch 68/500\n",
            "49/49 [==============================] - 0s 3ms/step - loss: 1.7380 - accuracy: 0.2726 - val_loss: 1.7629 - val_accuracy: 0.2620\n",
            "Epoch 69/500\n",
            "49/49 [==============================] - 0s 3ms/step - loss: 1.7398 - accuracy: 0.2645 - val_loss: 1.7628 - val_accuracy: 0.2618\n",
            "Epoch 70/500\n",
            "49/49 [==============================] - 0s 2ms/step - loss: 1.7470 - accuracy: 0.2650 - val_loss: 1.7628 - val_accuracy: 0.2618\n",
            "Epoch 71/500\n",
            "49/49 [==============================] - 0s 3ms/step - loss: 1.7445 - accuracy: 0.2632 - val_loss: 1.7628 - val_accuracy: 0.2620\n",
            "Epoch 72/500\n",
            "49/49 [==============================] - 0s 2ms/step - loss: 1.7391 - accuracy: 0.2589 - val_loss: 1.7628 - val_accuracy: 0.2618\n",
            "Epoch 73/500\n",
            "49/49 [==============================] - 0s 2ms/step - loss: 1.7451 - accuracy: 0.2644 - val_loss: 1.7627 - val_accuracy: 0.2616\n",
            "Epoch 74/500\n",
            "49/49 [==============================] - 0s 2ms/step - loss: 1.7464 - accuracy: 0.2634 - val_loss: 1.7627 - val_accuracy: 0.2623\n",
            "Epoch 75/500\n",
            "49/49 [==============================] - 0s 3ms/step - loss: 1.7487 - accuracy: 0.2654 - val_loss: 1.7628 - val_accuracy: 0.2618\n",
            "Epoch 76/500\n",
            "49/49 [==============================] - 0s 3ms/step - loss: 1.7425 - accuracy: 0.2730 - val_loss: 1.7627 - val_accuracy: 0.2616\n",
            "Epoch 77/500\n",
            "49/49 [==============================] - 0s 3ms/step - loss: 1.7371 - accuracy: 0.2632 - val_loss: 1.7628 - val_accuracy: 0.2625\n",
            "Epoch 78/500\n",
            "49/49 [==============================] - 0s 3ms/step - loss: 1.7310 - accuracy: 0.2790 - val_loss: 1.7630 - val_accuracy: 0.2618\n",
            "Epoch 79/500\n",
            "49/49 [==============================] - 0s 3ms/step - loss: 1.7521 - accuracy: 0.2585 - val_loss: 1.7627 - val_accuracy: 0.2620\n",
            "Epoch 80/500\n",
            "49/49 [==============================] - 0s 3ms/step - loss: 1.7371 - accuracy: 0.2695 - val_loss: 1.7629 - val_accuracy: 0.2618\n",
            "Epoch 81/500\n",
            "49/49 [==============================] - 0s 3ms/step - loss: 1.7436 - accuracy: 0.2634 - val_loss: 1.7626 - val_accuracy: 0.2620\n",
            "Epoch 82/500\n",
            "49/49 [==============================] - 0s 3ms/step - loss: 1.7444 - accuracy: 0.2643 - val_loss: 1.7628 - val_accuracy: 0.2618\n",
            "Epoch 83/500\n",
            "49/49 [==============================] - 0s 3ms/step - loss: 1.7450 - accuracy: 0.2620 - val_loss: 1.7629 - val_accuracy: 0.2616\n",
            "Epoch 84/500\n",
            "49/49 [==============================] - 0s 3ms/step - loss: 1.7515 - accuracy: 0.2549 - val_loss: 1.7628 - val_accuracy: 0.2618\n",
            "Epoch 85/500\n",
            "49/49 [==============================] - 0s 3ms/step - loss: 1.7452 - accuracy: 0.2659 - val_loss: 1.7627 - val_accuracy: 0.2625\n",
            "Epoch 86/500\n",
            "49/49 [==============================] - 0s 3ms/step - loss: 1.7497 - accuracy: 0.2604 - val_loss: 1.7628 - val_accuracy: 0.2616\n",
            "Epoch 87/500\n",
            "49/49 [==============================] - 0s 3ms/step - loss: 1.7481 - accuracy: 0.2581 - val_loss: 1.7628 - val_accuracy: 0.2623\n",
            "Epoch 88/500\n",
            "49/49 [==============================] - 0s 3ms/step - loss: 1.7355 - accuracy: 0.2710 - val_loss: 1.7629 - val_accuracy: 0.2618\n",
            "Epoch 89/500\n",
            "49/49 [==============================] - 0s 3ms/step - loss: 1.7479 - accuracy: 0.2632 - val_loss: 1.7628 - val_accuracy: 0.2618\n",
            "Epoch 90/500\n",
            "49/49 [==============================] - 0s 3ms/step - loss: 1.7366 - accuracy: 0.2630 - val_loss: 1.7628 - val_accuracy: 0.2618\n",
            "Epoch 91/500\n",
            "49/49 [==============================] - 0s 2ms/step - loss: 1.7388 - accuracy: 0.2663 - val_loss: 1.7628 - val_accuracy: 0.2620\n",
            "Epoch 92/500\n",
            "49/49 [==============================] - 0s 3ms/step - loss: 1.7395 - accuracy: 0.2661 - val_loss: 1.7628 - val_accuracy: 0.2620\n",
            "Epoch 93/500\n",
            "49/49 [==============================] - 0s 2ms/step - loss: 1.7479 - accuracy: 0.2666 - val_loss: 1.7627 - val_accuracy: 0.2623\n",
            "Epoch 94/500\n",
            "49/49 [==============================] - 0s 3ms/step - loss: 1.7439 - accuracy: 0.2659 - val_loss: 1.7629 - val_accuracy: 0.2620\n",
            "Epoch 95/500\n",
            "49/49 [==============================] - 0s 3ms/step - loss: 1.7414 - accuracy: 0.2647 - val_loss: 1.7627 - val_accuracy: 0.2634\n",
            "Epoch 96/500\n",
            "49/49 [==============================] - 0s 3ms/step - loss: 1.7375 - accuracy: 0.2709 - val_loss: 1.7627 - val_accuracy: 0.2634\n"
          ],
          "name": "stdout"
        }
      ]
    },
    {
      "cell_type": "code",
      "metadata": {
        "id": "oB-tTrST4tod"
      },
      "source": [
        "# Function to plot Loss vs. Validation Loss\n",
        "def plot_loss_curve(history):\n",
        "    plt.plot(history.history['loss'], label = 'Loss')\n",
        "    plt.plot(history.history['val_loss'], label = 'Validation Loss')\n",
        "    plt.grid(True)\n",
        "    plt.xlabel(\"EPOCHS\")\n",
        "    plt.legend(loc = 'upper left')\n",
        "    plt.show()"
      ],
      "execution_count": 35,
      "outputs": []
    },
    {
      "cell_type": "code",
      "metadata": {
        "colab": {
          "base_uri": "https://localhost:8080/",
          "height": 279
        },
        "id": "QuLTXQpT4xzS",
        "outputId": "c69d4bb1-56a1-4ac6-83a8-8699c148616a"
      },
      "source": [
        "# Show Loss Curve\n",
        "plot_loss_curve(history)"
      ],
      "execution_count": 36,
      "outputs": [
        {
          "output_type": "display_data",
          "data": {
            "image/png": "[encoded data removed]",
            "text/plain": [
              "<Figure size 432x288 with 1 Axes>"
            ]
          },
          "metadata": {
            "tags": [],
            "needs_background": "light"
          }
        }
      ]
    },
    {
      "cell_type": "code",
      "metadata": {
        "id": "TVgqKP_h-Nsp"
      },
      "source": [
        "# Function to plot Accuracy vs. Validation Accuracy\n",
        "def plot_accuracy_curve(history):\n",
        "    plt.plot(history.history['accuracy'], label = 'Accuracy')\n",
        "    plt.plot(history.history['val_accuracy'], label = 'Validation Accuracy')\n",
        "    plt.grid(True)\n",
        "    plt.xlabel(\"EPOCHS\")\n",
        "    plt.legend(loc = 'upper left')\n",
        "    plt.show()"
      ],
      "execution_count": 37,
      "outputs": []
    },
    {
      "cell_type": "code",
      "metadata": {
        "colab": {
          "base_uri": "https://localhost:8080/",
          "height": 279
        },
        "id": "h1nivTTc-IiF",
        "outputId": "eb974795-bfa6-4ad7-8204-d69535cced06"
      },
      "source": [
        "# Show Accuracy Curve\n",
        "plot_accuracy_curve(history)"
      ],
      "execution_count": 38,
      "outputs": [
        {
          "output_type": "display_data",
          "data": {
            "image/png": "[encoded data removed]",
            "text/plain": [
              "<Figure size 432x288 with 1 Axes>"
            ]
          },
          "metadata": {
            "tags": [],
            "needs_background": "light"
          }
        }
      ]
    },
    {
      "cell_type": "code",
      "metadata": {
        "id": "1eWqz8oM5x5k"
      },
      "source": [
        "# Make Test Predictions\n",
        "y_test_pred = model.predict(x_test_trans)\n",
        "y_test_margin = y_test_trans"
      ],
      "execution_count": 39,
      "outputs": []
    },
    {
      "cell_type": "code",
      "metadata": {
        "id": "32ddy5mU8RQK"
      },
      "source": [
        "# Function to Get 'N-Best' Guesses\n",
        "guesses = []\n",
        "accuracy = []\n",
        "accuracies = []\n",
        "win = 0\n",
        "for i in range(1, num_margins + 1):\n",
        "  current_guess = []\n",
        "  current_win = 0\n",
        "  for j in range(len(y_test_pred)):\n",
        "    current_guesses = y_test_pred[j]\n",
        "    current_guess.append(current_guesses.argsort()[-i])\n",
        "    if (y_test_trans[j] == current_guess[-1]):\n",
        "      current_win = current_win + 1\n",
        "  guesses.append(current_guess)\n",
        "  win = win + current_win\n",
        "  accuracy.append(win / len(y_test_trans))\n",
        "accuracies.append(accuracy)"
      ],
      "execution_count": 40,
      "outputs": []
    },
    {
      "cell_type": "code",
      "metadata": {
        "id": "gMYK-aAJn_UX"
      },
      "source": [
        "# Make 3 Set Predictions\n",
        "y_margin_pred = model.predict(x_pred_trans)\n",
        "y_true_margin = y_true_trans"
      ],
      "execution_count": 41,
      "outputs": []
    },
    {
      "cell_type": "code",
      "metadata": {
        "id": "bEvSluQmGt44"
      },
      "source": [
        "#starting by setting random seeds and restarting keras blackend session\n",
        "np.random.seed(42)\n",
        "tf.random.set_seed(42)\n",
        "\n",
        "#resets the Keras global state - helps avoid clutter from old models and layers, especially when memory is limited\n",
        "keras.backend.clear_session()"
      ],
      "execution_count": 44,
      "outputs": []
    },
    {
      "cell_type": "code",
      "metadata": {
        "colab": {
          "base_uri": "https://localhost:8080/"
        },
        "id": "kOLnjAq_-WUv",
        "outputId": "ffb44b76-6fda-47cb-8c3f-9c8ca45fcf49"
      },
      "source": [
        "# Create Deep Multiclassification Model (Neaural Networks)\n",
        "model = Sequential()\n",
        "model.add(Flatten())\n",
        "model.add(Dense(2))\n",
        "model.add(Dense(num_margins, activation = 'softmax'))\n",
        "model.compile(loss='sparse_categorical_crossentropy', optimizer=keras.optimizers.Adam(lr=0.001855), metrics = ['accuracy'])\n",
        "history = model.fit(x_train_trans, y_train_trans, epochs=500, batch_size = 150,\n",
        "                    validation_data=(x_valid_trans, y_valid_trans), callbacks = early_stopping)"
      ],
      "execution_count": 45,
      "outputs": [
        {
          "output_type": "stream",
          "text": [
            "Epoch 1/500\n",
            "49/49 [==============================] - 1s 6ms/step - loss: 1.9951 - accuracy: 0.0954 - val_loss: 1.9364 - val_accuracy: 0.2073\n",
            "Epoch 2/500\n",
            "49/49 [==============================] - 0s 3ms/step - loss: 1.9253 - accuracy: 0.2123 - val_loss: 1.8918 - val_accuracy: 0.2114\n",
            "Epoch 3/500\n",
            "49/49 [==============================] - 0s 3ms/step - loss: 1.8755 - accuracy: 0.2105 - val_loss: 1.8595 - val_accuracy: 0.2082\n",
            "Epoch 4/500\n",
            "49/49 [==============================] - 0s 3ms/step - loss: 1.8457 - accuracy: 0.2140 - val_loss: 1.8323 - val_accuracy: 0.2089\n",
            "Epoch 5/500\n",
            "49/49 [==============================] - 0s 3ms/step - loss: 1.8190 - accuracy: 0.2073 - val_loss: 1.8089 - val_accuracy: 0.2107\n",
            "Epoch 6/500\n",
            "49/49 [==============================] - 0s 3ms/step - loss: 1.7944 - accuracy: 0.2212 - val_loss: 1.7927 - val_accuracy: 0.2112\n",
            "Epoch 7/500\n",
            "49/49 [==============================] - 0s 3ms/step - loss: 1.7796 - accuracy: 0.2325 - val_loss: 1.7829 - val_accuracy: 0.2542\n",
            "Epoch 8/500\n",
            "49/49 [==============================] - 0s 3ms/step - loss: 1.7758 - accuracy: 0.2572 - val_loss: 1.7789 - val_accuracy: 0.2526\n",
            "Epoch 9/500\n",
            "49/49 [==============================] - 0s 3ms/step - loss: 1.7647 - accuracy: 0.2512 - val_loss: 1.7772 - val_accuracy: 0.2540\n",
            "Epoch 10/500\n",
            "49/49 [==============================] - 0s 3ms/step - loss: 1.7716 - accuracy: 0.2509 - val_loss: 1.7760 - val_accuracy: 0.2531\n",
            "Epoch 11/500\n",
            "49/49 [==============================] - 0s 3ms/step - loss: 1.7712 - accuracy: 0.2539 - val_loss: 1.7750 - val_accuracy: 0.2538\n",
            "Epoch 12/500\n",
            "49/49 [==============================] - 0s 2ms/step - loss: 1.7641 - accuracy: 0.2555 - val_loss: 1.7745 - val_accuracy: 0.2526\n",
            "Epoch 13/500\n",
            "49/49 [==============================] - 0s 3ms/step - loss: 1.7646 - accuracy: 0.2542 - val_loss: 1.7741 - val_accuracy: 0.2526\n",
            "Epoch 14/500\n",
            "49/49 [==============================] - 0s 3ms/step - loss: 1.7708 - accuracy: 0.2397 - val_loss: 1.7732 - val_accuracy: 0.2542\n",
            "Epoch 15/500\n",
            "49/49 [==============================] - 0s 3ms/step - loss: 1.7565 - accuracy: 0.2539 - val_loss: 1.7727 - val_accuracy: 0.2524\n",
            "Epoch 16/500\n",
            "49/49 [==============================] - 0s 3ms/step - loss: 1.7588 - accuracy: 0.2642 - val_loss: 1.7721 - val_accuracy: 0.2533\n",
            "Epoch 17/500\n",
            "49/49 [==============================] - 0s 3ms/step - loss: 1.7579 - accuracy: 0.2591 - val_loss: 1.7714 - val_accuracy: 0.2524\n",
            "Epoch 18/500\n",
            "49/49 [==============================] - 0s 3ms/step - loss: 1.7549 - accuracy: 0.2632 - val_loss: 1.7711 - val_accuracy: 0.2545\n",
            "Epoch 19/500\n",
            "49/49 [==============================] - 0s 3ms/step - loss: 1.7663 - accuracy: 0.2635 - val_loss: 1.7703 - val_accuracy: 0.2542\n",
            "Epoch 20/500\n",
            "49/49 [==============================] - 0s 3ms/step - loss: 1.7568 - accuracy: 0.2603 - val_loss: 1.7701 - val_accuracy: 0.2542\n",
            "Epoch 21/500\n",
            "49/49 [==============================] - 0s 2ms/step - loss: 1.7628 - accuracy: 0.2543 - val_loss: 1.7693 - val_accuracy: 0.2536\n",
            "Epoch 22/500\n",
            "49/49 [==============================] - 0s 3ms/step - loss: 1.7596 - accuracy: 0.2599 - val_loss: 1.7686 - val_accuracy: 0.2529\n",
            "Epoch 23/500\n",
            "49/49 [==============================] - 0s 3ms/step - loss: 1.7499 - accuracy: 0.2669 - val_loss: 1.7680 - val_accuracy: 0.2552\n",
            "Epoch 24/500\n",
            "49/49 [==============================] - 0s 3ms/step - loss: 1.7552 - accuracy: 0.2619 - val_loss: 1.7675 - val_accuracy: 0.2545\n",
            "Epoch 25/500\n",
            "49/49 [==============================] - 0s 3ms/step - loss: 1.7593 - accuracy: 0.2500 - val_loss: 1.7667 - val_accuracy: 0.2556\n",
            "Epoch 26/500\n",
            "49/49 [==============================] - 0s 3ms/step - loss: 1.7607 - accuracy: 0.2549 - val_loss: 1.7664 - val_accuracy: 0.2565\n",
            "Epoch 27/500\n",
            "49/49 [==============================] - 0s 2ms/step - loss: 1.7608 - accuracy: 0.2590 - val_loss: 1.7660 - val_accuracy: 0.2572\n",
            "Epoch 28/500\n",
            "49/49 [==============================] - 0s 2ms/step - loss: 1.7510 - accuracy: 0.2609 - val_loss: 1.7656 - val_accuracy: 0.2561\n",
            "Epoch 29/500\n",
            "49/49 [==============================] - 0s 3ms/step - loss: 1.7520 - accuracy: 0.2674 - val_loss: 1.7650 - val_accuracy: 0.2577\n",
            "Epoch 30/500\n",
            "49/49 [==============================] - 0s 3ms/step - loss: 1.7438 - accuracy: 0.2668 - val_loss: 1.7646 - val_accuracy: 0.2584\n",
            "Epoch 31/500\n",
            "49/49 [==============================] - 0s 3ms/step - loss: 1.7498 - accuracy: 0.2625 - val_loss: 1.7642 - val_accuracy: 0.2595\n",
            "Epoch 32/500\n",
            "49/49 [==============================] - 0s 3ms/step - loss: 1.7536 - accuracy: 0.2660 - val_loss: 1.7640 - val_accuracy: 0.2600\n",
            "Epoch 33/500\n",
            "49/49 [==============================] - 0s 3ms/step - loss: 1.7517 - accuracy: 0.2645 - val_loss: 1.7635 - val_accuracy: 0.2607\n",
            "Epoch 34/500\n",
            "49/49 [==============================] - 0s 3ms/step - loss: 1.7465 - accuracy: 0.2659 - val_loss: 1.7630 - val_accuracy: 0.2602\n",
            "Epoch 35/500\n",
            "49/49 [==============================] - 0s 3ms/step - loss: 1.7510 - accuracy: 0.2614 - val_loss: 1.7628 - val_accuracy: 0.2590\n",
            "Epoch 36/500\n",
            "49/49 [==============================] - 0s 3ms/step - loss: 1.7519 - accuracy: 0.2617 - val_loss: 1.7627 - val_accuracy: 0.2609\n",
            "Epoch 37/500\n",
            "49/49 [==============================] - 0s 3ms/step - loss: 1.7465 - accuracy: 0.2690 - val_loss: 1.7628 - val_accuracy: 0.2609\n",
            "Epoch 38/500\n",
            "49/49 [==============================] - 0s 3ms/step - loss: 1.7496 - accuracy: 0.2644 - val_loss: 1.7624 - val_accuracy: 0.2623\n",
            "Epoch 39/500\n",
            "49/49 [==============================] - 0s 3ms/step - loss: 1.7408 - accuracy: 0.2688 - val_loss: 1.7624 - val_accuracy: 0.2623\n",
            "Epoch 40/500\n",
            "49/49 [==============================] - 0s 2ms/step - loss: 1.7497 - accuracy: 0.2685 - val_loss: 1.7623 - val_accuracy: 0.2627\n",
            "Epoch 41/500\n",
            "49/49 [==============================] - 0s 2ms/step - loss: 1.7455 - accuracy: 0.2655 - val_loss: 1.7623 - val_accuracy: 0.2616\n",
            "Epoch 42/500\n",
            "49/49 [==============================] - 0s 2ms/step - loss: 1.7507 - accuracy: 0.2648 - val_loss: 1.7621 - val_accuracy: 0.2618\n",
            "Epoch 43/500\n",
            "49/49 [==============================] - 0s 3ms/step - loss: 1.7414 - accuracy: 0.2717 - val_loss: 1.7621 - val_accuracy: 0.2618\n",
            "Epoch 44/500\n",
            "49/49 [==============================] - 0s 3ms/step - loss: 1.7382 - accuracy: 0.2620 - val_loss: 1.7622 - val_accuracy: 0.2620\n",
            "Epoch 45/500\n",
            "49/49 [==============================] - 0s 3ms/step - loss: 1.7500 - accuracy: 0.2631 - val_loss: 1.7617 - val_accuracy: 0.2620\n",
            "Epoch 46/500\n",
            "49/49 [==============================] - 0s 2ms/step - loss: 1.7355 - accuracy: 0.2728 - val_loss: 1.7622 - val_accuracy: 0.2620\n",
            "Epoch 47/500\n",
            "49/49 [==============================] - 0s 3ms/step - loss: 1.7395 - accuracy: 0.2654 - val_loss: 1.7619 - val_accuracy: 0.2620\n",
            "Epoch 48/500\n",
            "49/49 [==============================] - 0s 3ms/step - loss: 1.7434 - accuracy: 0.2673 - val_loss: 1.7620 - val_accuracy: 0.2623\n",
            "Epoch 49/500\n",
            "49/49 [==============================] - 0s 3ms/step - loss: 1.7507 - accuracy: 0.2656 - val_loss: 1.7622 - val_accuracy: 0.2620\n",
            "Epoch 50/500\n",
            "49/49 [==============================] - 0s 2ms/step - loss: 1.7492 - accuracy: 0.2664 - val_loss: 1.7620 - val_accuracy: 0.2623\n",
            "Epoch 51/500\n",
            "49/49 [==============================] - 0s 2ms/step - loss: 1.7460 - accuracy: 0.2642 - val_loss: 1.7620 - val_accuracy: 0.2623\n",
            "Epoch 52/500\n",
            "49/49 [==============================] - 0s 3ms/step - loss: 1.7376 - accuracy: 0.2612 - val_loss: 1.7619 - val_accuracy: 0.2618\n",
            "Epoch 53/500\n",
            "49/49 [==============================] - 0s 3ms/step - loss: 1.7468 - accuracy: 0.2651 - val_loss: 1.7621 - val_accuracy: 0.2620\n",
            "Epoch 54/500\n",
            "49/49 [==============================] - 0s 3ms/step - loss: 1.7368 - accuracy: 0.2689 - val_loss: 1.7621 - val_accuracy: 0.2620\n",
            "Epoch 55/500\n",
            "49/49 [==============================] - 0s 3ms/step - loss: 1.7427 - accuracy: 0.2634 - val_loss: 1.7621 - val_accuracy: 0.2620\n",
            "Epoch 56/500\n",
            "49/49 [==============================] - 0s 3ms/step - loss: 1.7463 - accuracy: 0.2613 - val_loss: 1.7622 - val_accuracy: 0.2620\n",
            "Epoch 57/500\n",
            "49/49 [==============================] - 0s 3ms/step - loss: 1.7436 - accuracy: 0.2681 - val_loss: 1.7622 - val_accuracy: 0.2623\n",
            "Epoch 58/500\n",
            "49/49 [==============================] - 0s 3ms/step - loss: 1.7411 - accuracy: 0.2647 - val_loss: 1.7622 - val_accuracy: 0.2620\n",
            "Epoch 59/500\n",
            "49/49 [==============================] - 0s 3ms/step - loss: 1.7398 - accuracy: 0.2691 - val_loss: 1.7624 - val_accuracy: 0.2620\n",
            "Epoch 60/500\n",
            "49/49 [==============================] - 0s 3ms/step - loss: 1.7421 - accuracy: 0.2728 - val_loss: 1.7624 - val_accuracy: 0.2613\n"
          ],
          "name": "stdout"
        }
      ]
    },
    {
      "cell_type": "code",
      "metadata": {
        "colab": {
          "base_uri": "https://localhost:8080/",
          "height": 279
        },
        "id": "d3DhexpK_GDg",
        "outputId": "79165f38-dcfa-483a-f0eb-d711e30b75d0"
      },
      "source": [
        "# Show Loss Curve\n",
        "plot_loss_curve(history)"
      ],
      "execution_count": 46,
      "outputs": [
        {
          "output_type": "display_data",
          "data": {
            "image/png": "[encoded data removed]",
            "text/plain": [
              "<Figure size 432x288 with 1 Axes>"
            ]
          },
          "metadata": {
            "tags": [],
            "needs_background": "light"
          }
        }
      ]
    },
    {
      "cell_type": "code",
      "metadata": {
        "colab": {
          "base_uri": "https://localhost:8080/",
          "height": 279
        },
        "id": "vnRW7eGD_U6p",
        "outputId": "e72ed8ba-75e7-43dc-cd89-c922e19aaad2"
      },
      "source": [
        "# Show Accuracy Curve\n",
        "plot_accuracy_curve(history)"
      ],
      "execution_count": 47,
      "outputs": [
        {
          "output_type": "display_data",
          "data": {
            "image/png": "[encoded data removed]",
            "text/plain": [
              "<Figure size 432x288 with 1 Axes>"
            ]
          },
          "metadata": {
            "tags": [],
            "needs_background": "light"
          }
        }
      ]
    },
    {
      "cell_type": "code",
      "metadata": {
        "id": "c5HTnIHS_VOw"
      },
      "source": [
        "# Make Test Predictions\n",
        "y_test_pred = model.predict(x_test_trans)\n",
        "y_test_margin = y_test_trans"
      ],
      "execution_count": 48,
      "outputs": []
    },
    {
      "cell_type": "code",
      "metadata": {
        "id": "62kfqROF_YKQ"
      },
      "source": [
        "# Function to Get 'N-Best' Guesses\n",
        "guesses = []\n",
        "accuracy = []\n",
        "win = 0\n",
        "for i in range(1, num_margins + 1):\n",
        "  current_guess = []\n",
        "  current_win = 0\n",
        "  for j in range(len(y_test_pred)):\n",
        "    current_guesses = y_test_pred[j]\n",
        "    current_guess.append(current_guesses.argsort()[-i])\n",
        "    if (y_test_trans[j] == current_guess[-1]):\n",
        "      current_win = current_win + 1\n",
        "  guesses.append(current_guess)\n",
        "  win = win + current_win\n",
        "  accuracy.append(win / len(y_test_trans))\n",
        "accuracies.append(accuracy)"
      ],
      "execution_count": 49,
      "outputs": []
    },
    {
      "cell_type": "code",
      "metadata": {
        "id": "67He54ejok1K"
      },
      "source": [
        "# Make 3 Set Predictions\n",
        "y_margin_pred = model.predict(x_pred_trans)\n",
        "y_true_margin = y_true_trans"
      ],
      "execution_count": 50,
      "outputs": []
    },
    {
      "cell_type": "code",
      "metadata": {
        "colab": {
          "base_uri": "https://localhost:8080/"
        },
        "id": "H_WZBiLdlOU7",
        "outputId": "ddf2f96e-d1b7-470c-b069-ecaaccd81eef"
      },
      "source": [
        "# Create Simple Support Vector Machine\n",
        "clf = SVC(probability = True, random_state = 42)\n",
        "clf.fit(x_train_trans.reshape(-1, 3), y_train_trans.reshape(-1, 1))"
      ],
      "execution_count": 52,
      "outputs": [
        {
          "output_type": "stream",
          "text": [
            "/usr/local/lib/python3.7/dist-packages/sklearn/utils/validation.py:760: DataConversionWarning: A column-vector y was passed when a 1d array was expected. Please change the shape of y to (n_samples, ), for example using ravel().\n",
            "  y = column_or_1d(y, warn=True)\n"
          ],
          "name": "stderr"
        },
        {
          "output_type": "execute_result",
          "data": {
            "text/plain": [
              "SVC(C=1.0, break_ties=False, cache_size=200, class_weight=None, coef0=0.0,\n",
              "    decision_function_shape='ovr', degree=3, gamma='scale', kernel='rbf',\n",
              "    max_iter=-1, probability=True, random_state=42, shrinking=True, tol=0.001,\n",
              "    verbose=False)"
            ]
          },
          "metadata": {
            "tags": []
          },
          "execution_count": 52
        }
      ]
    },
    {
      "cell_type": "code",
      "metadata": {
        "id": "VtS4mHgKmNw8"
      },
      "source": [
        "# Make Test Predictions\n",
        "y_test_pred = clf.predict_proba(x_test_trans.reshape(-1, 3))"
      ],
      "execution_count": 53,
      "outputs": []
    },
    {
      "cell_type": "code",
      "metadata": {
        "id": "9PX_MA2Bmn7S"
      },
      "source": [
        "# Function to Get 'N-Best' Guesses\n",
        "guesses = []\n",
        "accuracy = []\n",
        "win = 0\n",
        "for i in range(1, num_margins + 1):\n",
        "  current_guess = []\n",
        "  current_win = 0\n",
        "  for j in range(len(y_test_pred)):\n",
        "    current_guesses = y_test_pred[j]\n",
        "    current_guess.append(current_guesses.argsort()[-i])\n",
        "    if (y_test_trans[j] == current_guess[-1]):\n",
        "      current_win = current_win + 1\n",
        "  guesses.append(current_guess)\n",
        "  win = win + current_win\n",
        "  accuracy.append(win / len(y_test_trans))\n",
        "accuracies.append(accuracy)"
      ],
      "execution_count": 54,
      "outputs": []
    },
    {
      "cell_type": "code",
      "metadata": {
        "id": "YxsvnhSDopZm"
      },
      "source": [
        "# Make 3 Set Predictions\n",
        "y_margin_pred = model.predict(x_pred_trans)\n",
        "y_true_margin = y_true_trans"
      ],
      "execution_count": 55,
      "outputs": []
    },
    {
      "cell_type": "code",
      "metadata": {
        "colab": {
          "base_uri": "https://localhost:8080/",
          "height": 404
        },
        "id": "KlhEcaOY_aH-",
        "outputId": "8ab34950-22a3-42de-e7f3-37cb0a68f536"
      },
      "source": [
        "# Visualize Performance\n",
        "plt.figure(figsize = (10, 5))\n",
        "plt.xlabel('# of Guesses')\n",
        "plt.ylabel('% Accuracy')\n",
        "plt.plot(np.arange(1, 8, 1), accuracies[0], 'bo', linestyle = 'dashed', label = 'Simple Neural Network', linewidth = 4, alpha = 0.6)\n",
        "plt.plot(np.arange(1, 8, 1), accuracies[1], 'ro', linestyle = 'dashed', label = 'Deep Neural Network', linewidth = 3, alpha = 0.5)\n",
        "plt.plot(np.arange(1, 8, 1), accuracies[1], 'go', linestyle = 'dashed', label = 'Support Vector Machine', linewidth = 2, alpha = 0.5)\n",
        "plt.plot(np.arange(1, 8, 1), baseline, 'purple', linestyle = 'dashed', label = 'Baseline', linewidth = 2, alpha = 0.5)\n",
        "plt.legend(loc = 'upper left')\n",
        "plt.yticks(list(np.arange(0, 1.1, 0.1)))\n",
        "plt.title('Multiclassification Model Performance')\n",
        "plt.grid(True)\n",
        "plt.axes().set_facecolor('white')"
      ],
      "execution_count": 57,
      "outputs": [
        {
          "output_type": "stream",
          "text": [
            "/usr/local/lib/python3.7/dist-packages/ipykernel_launcher.py:13: MatplotlibDeprecationWarning: Adding an axes using the same arguments as a previous axes currently reuses the earlier instance.  In a future version, a new instance will always be created and returned.  Meanwhile, this warning can be suppressed, and the future behavior ensured, by passing a unique label to each axes instance.\n",
            "  del sys.path[0]\n"
          ],
          "name": "stderr"
        },
        {
          "output_type": "display_data",
          "data": {
            "image/png": "[encoded data removed]",
            "text/plain": [
              "<Figure size 720x360 with 1 Axes>"
            ]
          },
          "metadata": {
            "tags": [],
            "needs_background": "light"
          }
        }
      ]
    },
    {
      "cell_type": "code",
      "metadata": {
        "id": "91kzuOMjZuuB"
      },
      "source": [
        "#starting by setting random seeds and restarting keras blackend session\n",
        "np.random.seed(42)\n",
        "tf.random.set_seed(42)\n",
        "\n",
        "#resets the Keras global state - helps avoid clutter from old models and layers, especially when memory is limited\n",
        "keras.backend.clear_session()"
      ],
      "execution_count": 58,
      "outputs": []
    },
    {
      "cell_type": "code",
      "metadata": {
        "colab": {
          "base_uri": "https://localhost:8080/"
        },
        "id": "nVuYliRy_cyy",
        "outputId": "8172d79f-01c3-4a62-e4e8-dc68392b963a"
      },
      "source": [
        "# Create Simple Regression Model (Neaural Networks)\n",
        "model = Sequential()\n",
        "model.add(Flatten())\n",
        "model.add(Dense(1, activation='relu'))\n",
        "model.compile(loss='mse', optimizer=keras.optimizers.Adam(lr=0.00015), metrics = ['accuracy'])\n",
        "history = model.fit(x_train_trans, y_train_scaled, epochs=500, batch_size = 150,\n",
        "                    validation_data=(x_valid_trans, y_valid_scaled), callbacks = early_stopping)"
      ],
      "execution_count": 59,
      "outputs": [
        {
          "output_type": "stream",
          "text": [
            "Epoch 1/500\n",
            "49/49 [==============================] - 1s 5ms/step - loss: 0.2718 - accuracy: 7.1782e-05 - val_loss: 0.2606 - val_accuracy: 0.0000e+00\n",
            "Epoch 2/500\n",
            "49/49 [==============================] - 0s 2ms/step - loss: 0.2661 - accuracy: 6.3036e-05 - val_loss: 0.2538 - val_accuracy: 0.0000e+00\n",
            "Epoch 3/500\n",
            "49/49 [==============================] - 0s 3ms/step - loss: 0.2576 - accuracy: 1.4009e-05 - val_loss: 0.2423 - val_accuracy: 0.0000e+00\n",
            "Epoch 4/500\n",
            "49/49 [==============================] - 0s 2ms/step - loss: 0.2452 - accuracy: 8.2738e-06 - val_loss: 0.2275 - val_accuracy: 0.0000e+00\n",
            "Epoch 5/500\n",
            "49/49 [==============================] - 0s 3ms/step - loss: 0.2299 - accuracy: 8.2738e-06 - val_loss: 0.2115 - val_accuracy: 0.0000e+00\n",
            "Epoch 6/500\n",
            "49/49 [==============================] - 0s 2ms/step - loss: 0.2111 - accuracy: 1.6972e-05 - val_loss: 0.1947 - val_accuracy: 0.0000e+00\n",
            "Epoch 7/500\n",
            "49/49 [==============================] - 0s 2ms/step - loss: 0.2026 - accuracy: 1.6646e-04 - val_loss: 0.1784 - val_accuracy: 0.0000e+00\n",
            "Epoch 8/500\n",
            "49/49 [==============================] - 0s 3ms/step - loss: 0.1807 - accuracy: 7.6380e-05 - val_loss: 0.1627 - val_accuracy: 0.0000e+00\n",
            "Epoch 9/500\n",
            "49/49 [==============================] - 0s 3ms/step - loss: 0.1662 - accuracy: 2.6262e-04 - val_loss: 0.1477 - val_accuracy: 0.0000e+00\n",
            "Epoch 10/500\n",
            "49/49 [==============================] - 0s 3ms/step - loss: 0.1533 - accuracy: 6.9321e-05 - val_loss: 0.1338 - val_accuracy: 0.0000e+00\n",
            "Epoch 11/500\n",
            "49/49 [==============================] - 0s 2ms/step - loss: 0.1379 - accuracy: 5.4305e-04 - val_loss: 0.1213 - val_accuracy: 0.0000e+00\n",
            "Epoch 12/500\n",
            "49/49 [==============================] - 0s 2ms/step - loss: 0.1261 - accuracy: 3.8038e-04 - val_loss: 0.1097 - val_accuracy: 0.0000e+00\n",
            "Epoch 13/500\n",
            "49/49 [==============================] - 0s 2ms/step - loss: 0.1139 - accuracy: 2.4826e-04 - val_loss: 0.0993 - val_accuracy: 0.0000e+00\n",
            "Epoch 14/500\n",
            "49/49 [==============================] - 0s 2ms/step - loss: 0.1053 - accuracy: 3.1738e-04 - val_loss: 0.0899 - val_accuracy: 0.0000e+00\n",
            "Epoch 15/500\n",
            "49/49 [==============================] - 0s 2ms/step - loss: 0.0936 - accuracy: 9.8660e-05 - val_loss: 0.0816 - val_accuracy: 0.0000e+00\n",
            "Epoch 16/500\n",
            "49/49 [==============================] - 0s 2ms/step - loss: 0.0870 - accuracy: 3.0940e-04 - val_loss: 0.0740 - val_accuracy: 0.0000e+00\n",
            "Epoch 17/500\n",
            "49/49 [==============================] - 0s 3ms/step - loss: 0.0792 - accuracy: 6.3397e-05 - val_loss: 0.0676 - val_accuracy: 0.0000e+00\n",
            "Epoch 18/500\n",
            "49/49 [==============================] - 0s 2ms/step - loss: 0.0709 - accuracy: 2.7745e-04 - val_loss: 0.0619 - val_accuracy: 0.0000e+00\n",
            "Epoch 19/500\n",
            "49/49 [==============================] - 0s 2ms/step - loss: 0.0677 - accuracy: 1.4091e-04 - val_loss: 0.0572 - val_accuracy: 0.0000e+00\n",
            "Epoch 20/500\n",
            "49/49 [==============================] - 0s 2ms/step - loss: 0.0620 - accuracy: 3.9895e-04 - val_loss: 0.0532 - val_accuracy: 0.0000e+00\n",
            "Epoch 21/500\n",
            "49/49 [==============================] - 0s 3ms/step - loss: 0.0569 - accuracy: 6.7337e-05 - val_loss: 0.0498 - val_accuracy: 0.0000e+00\n",
            "Epoch 22/500\n",
            "49/49 [==============================] - 0s 2ms/step - loss: 0.0530 - accuracy: 1.8624e-04 - val_loss: 0.0470 - val_accuracy: 0.0000e+00\n",
            "Epoch 23/500\n",
            "49/49 [==============================] - 0s 2ms/step - loss: 0.0493 - accuracy: 8.6080e-05 - val_loss: 0.0446 - val_accuracy: 0.0000e+00\n",
            "Epoch 24/500\n",
            "49/49 [==============================] - 0s 2ms/step - loss: 0.0486 - accuracy: 1.6646e-04 - val_loss: 0.0425 - val_accuracy: 0.0000e+00\n",
            "Epoch 25/500\n",
            "49/49 [==============================] - 0s 2ms/step - loss: 0.0442 - accuracy: 1.6972e-05 - val_loss: 0.0408 - val_accuracy: 0.0000e+00\n",
            "Epoch 26/500\n",
            "49/49 [==============================] - 0s 2ms/step - loss: 0.0440 - accuracy: 4.6667e-04 - val_loss: 0.0394 - val_accuracy: 0.0000e+00\n",
            "Epoch 27/500\n",
            "49/49 [==============================] - 0s 2ms/step - loss: 0.0419 - accuracy: 3.2222e-04 - val_loss: 0.0382 - val_accuracy: 0.0000e+00\n",
            "Epoch 28/500\n",
            "49/49 [==============================] - 0s 2ms/step - loss: 0.0409 - accuracy: 2.9556e-04 - val_loss: 0.0372 - val_accuracy: 0.0000e+00\n",
            "Epoch 29/500\n",
            "49/49 [==============================] - 0s 2ms/step - loss: 0.0398 - accuracy: 6.3036e-05 - val_loss: 0.0363 - val_accuracy: 0.0000e+00\n",
            "Epoch 30/500\n",
            "49/49 [==============================] - 0s 2ms/step - loss: 0.0390 - accuracy: 1.1111e-05 - val_loss: 0.0355 - val_accuracy: 0.0000e+00\n",
            "Epoch 31/500\n",
            "49/49 [==============================] - 0s 2ms/step - loss: 0.0382 - accuracy: 3.2222e-04 - val_loss: 0.0349 - val_accuracy: 0.0000e+00\n",
            "Epoch 32/500\n",
            "49/49 [==============================] - 0s 2ms/step - loss: 0.0366 - accuracy: 4.6667e-04 - val_loss: 0.0343 - val_accuracy: 0.0000e+00\n",
            "Epoch 33/500\n",
            "49/49 [==============================] - 0s 2ms/step - loss: 0.0360 - accuracy: 3.6282e-05 - val_loss: 0.0338 - val_accuracy: 0.0000e+00\n",
            "Epoch 34/500\n",
            "49/49 [==============================] - 0s 2ms/step - loss: 0.0353 - accuracy: 3.9791e-05 - val_loss: 0.0333 - val_accuracy: 0.0000e+00\n",
            "Epoch 35/500\n",
            "49/49 [==============================] - 0s 2ms/step - loss: 0.0344 - accuracy: 8.6080e-05 - val_loss: 0.0329 - val_accuracy: 0.0000e+00\n",
            "Epoch 36/500\n",
            "49/49 [==============================] - 0s 2ms/step - loss: 0.0343 - accuracy: 5.0908e-05 - val_loss: 0.0324 - val_accuracy: 0.0000e+00\n",
            "Epoch 37/500\n",
            "49/49 [==============================] - 0s 2ms/step - loss: 0.0337 - accuracy: 1.4924e-04 - val_loss: 0.0320 - val_accuracy: 0.0000e+00\n",
            "Epoch 38/500\n",
            "49/49 [==============================] - 0s 2ms/step - loss: 0.0324 - accuracy: 2.7334e-04 - val_loss: 0.0317 - val_accuracy: 0.0000e+00\n",
            "Epoch 39/500\n",
            "49/49 [==============================] - 0s 3ms/step - loss: 0.0328 - accuracy: 4.3394e-05 - val_loss: 0.0313 - val_accuracy: 0.0000e+00\n",
            "Epoch 40/500\n",
            "49/49 [==============================] - 0s 2ms/step - loss: 0.0333 - accuracy: 2.6278e-05 - val_loss: 0.0309 - val_accuracy: 0.0000e+00\n",
            "Epoch 41/500\n",
            "49/49 [==============================] - 0s 2ms/step - loss: 0.0324 - accuracy: 6.7337e-05 - val_loss: 0.0305 - val_accuracy: 0.0000e+00\n",
            "Epoch 42/500\n",
            "49/49 [==============================] - 0s 2ms/step - loss: 0.0323 - accuracy: 1.6646e-04 - val_loss: 0.0302 - val_accuracy: 0.0000e+00\n",
            "Epoch 43/500\n",
            "49/49 [==============================] - 0s 2ms/step - loss: 0.0314 - accuracy: 4.7098e-05 - val_loss: 0.0298 - val_accuracy: 0.0000e+00\n",
            "Epoch 44/500\n",
            "49/49 [==============================] - 0s 2ms/step - loss: 0.0312 - accuracy: 2.3103e-05 - val_loss: 0.0294 - val_accuracy: 0.0000e+00\n",
            "Epoch 45/500\n",
            "49/49 [==============================] - 0s 2ms/step - loss: 0.0308 - accuracy: 1.1395e-04 - val_loss: 0.0291 - val_accuracy: 0.0000e+00\n",
            "Epoch 46/500\n",
            "49/49 [==============================] - 0s 2ms/step - loss: 0.0301 - accuracy: 2.9530e-05 - val_loss: 0.0287 - val_accuracy: 0.0000e+00\n",
            "Epoch 47/500\n",
            "49/49 [==============================] - 0s 2ms/step - loss: 0.0300 - accuracy: 3.6282e-05 - val_loss: 0.0284 - val_accuracy: 0.0000e+00\n",
            "Epoch 48/500\n",
            "49/49 [==============================] - 0s 3ms/step - loss: 0.0298 - accuracy: 1.2030e-04 - val_loss: 0.0280 - val_accuracy: 0.0000e+00\n",
            "Epoch 49/500\n",
            "49/49 [==============================] - 0s 2ms/step - loss: 0.0292 - accuracy: 1.4009e-05 - val_loss: 0.0276 - val_accuracy: 0.0000e+00\n",
            "Epoch 50/500\n",
            "49/49 [==============================] - 0s 2ms/step - loss: 0.0289 - accuracy: 1.4140e-04 - val_loss: 0.0273 - val_accuracy: 0.0000e+00\n",
            "Epoch 51/500\n",
            "49/49 [==============================] - 0s 3ms/step - loss: 0.0278 - accuracy: 1.4924e-04 - val_loss: 0.0269 - val_accuracy: 0.0000e+00\n",
            "Epoch 52/500\n",
            "49/49 [==============================] - 0s 2ms/step - loss: 0.0272 - accuracy: 9.6541e-05 - val_loss: 0.0266 - val_accuracy: 0.0000e+00\n",
            "Epoch 53/500\n",
            "49/49 [==============================] - 0s 2ms/step - loss: 0.0279 - accuracy: 3.2863e-05 - val_loss: 0.0262 - val_accuracy: 0.0000e+00\n",
            "Epoch 54/500\n",
            "49/49 [==============================] - 0s 2ms/step - loss: 0.0268 - accuracy: 1.7598e-04 - val_loss: 0.0259 - val_accuracy: 0.0000e+00\n",
            "Epoch 55/500\n",
            "49/49 [==============================] - 0s 2ms/step - loss: 0.0259 - accuracy: 8.1141e-05 - val_loss: 0.0255 - val_accuracy: 0.0000e+00\n",
            "Epoch 56/500\n",
            "49/49 [==============================] - 0s 2ms/step - loss: 0.0256 - accuracy: 6.0000e-04 - val_loss: 0.0252 - val_accuracy: 0.0000e+00\n",
            "Epoch 57/500\n",
            "49/49 [==============================] - 0s 3ms/step - loss: 0.0259 - accuracy: 2.9530e-05 - val_loss: 0.0248 - val_accuracy: 0.0000e+00\n",
            "Epoch 58/500\n",
            "49/49 [==============================] - 0s 2ms/step - loss: 0.0248 - accuracy: 1.9735e-04 - val_loss: 0.0245 - val_accuracy: 0.0000e+00\n",
            "Epoch 59/500\n",
            "49/49 [==============================] - 0s 2ms/step - loss: 0.0246 - accuracy: 1.4009e-05 - val_loss: 0.0241 - val_accuracy: 0.0000e+00\n",
            "Epoch 60/500\n",
            "49/49 [==============================] - 0s 2ms/step - loss: 0.0249 - accuracy: 1.5757e-04 - val_loss: 0.0238 - val_accuracy: 0.0000e+00\n",
            "Epoch 61/500\n",
            "49/49 [==============================] - 0s 2ms/step - loss: 0.0240 - accuracy: 3.6282e-05 - val_loss: 0.0235 - val_accuracy: 0.0000e+00\n",
            "Epoch 62/500\n",
            "49/49 [==============================] - 0s 3ms/step - loss: 0.0243 - accuracy: 8.1141e-05 - val_loss: 0.0232 - val_accuracy: 0.0000e+00\n",
            "Epoch 63/500\n",
            "49/49 [==============================] - 0s 3ms/step - loss: 0.0233 - accuracy: 5.4829e-05 - val_loss: 0.0229 - val_accuracy: 0.0000e+00\n",
            "Epoch 64/500\n",
            "49/49 [==============================] - 0s 2ms/step - loss: 0.0236 - accuracy: 8.6080e-05 - val_loss: 0.0225 - val_accuracy: 0.0000e+00\n",
            "Epoch 65/500\n",
            "49/49 [==============================] - 0s 2ms/step - loss: 0.0227 - accuracy: 7.1782e-05 - val_loss: 0.0222 - val_accuracy: 0.0000e+00\n",
            "Epoch 66/500\n",
            "49/49 [==============================] - 0s 2ms/step - loss: 0.0224 - accuracy: 1.1395e-04 - val_loss: 0.0219 - val_accuracy: 0.0000e+00\n",
            "Epoch 67/500\n",
            "49/49 [==============================] - 0s 2ms/step - loss: 0.0219 - accuracy: 1.3399e-04 - val_loss: 0.0216 - val_accuracy: 0.0000e+00\n",
            "Epoch 68/500\n",
            "49/49 [==============================] - 0s 3ms/step - loss: 0.0220 - accuracy: 8.6080e-05 - val_loss: 0.0214 - val_accuracy: 0.0000e+00\n",
            "Epoch 69/500\n",
            "49/49 [==============================] - 0s 2ms/step - loss: 0.0221 - accuracy: 2.2281e-04 - val_loss: 0.0211 - val_accuracy: 0.0000e+00\n",
            "Epoch 70/500\n",
            "49/49 [==============================] - 0s 2ms/step - loss: 0.0219 - accuracy: 1.6646e-04 - val_loss: 0.0208 - val_accuracy: 0.0000e+00\n",
            "Epoch 71/500\n",
            "49/49 [==============================] - 0s 2ms/step - loss: 0.0208 - accuracy: 2.9530e-05 - val_loss: 0.0205 - val_accuracy: 0.0000e+00\n",
            "Epoch 72/500\n",
            "49/49 [==============================] - 0s 2ms/step - loss: 0.0205 - accuracy: 2.7334e-04 - val_loss: 0.0203 - val_accuracy: 0.0000e+00\n",
            "Epoch 73/500\n",
            "49/49 [==============================] - 0s 2ms/step - loss: 0.0205 - accuracy: 7.6380e-05 - val_loss: 0.0200 - val_accuracy: 0.0000e+00\n",
            "Epoch 74/500\n",
            "49/49 [==============================] - 0s 2ms/step - loss: 0.0203 - accuracy: 2.0002e-05 - val_loss: 0.0197 - val_accuracy: 0.0000e+00\n",
            "Epoch 75/500\n",
            "49/49 [==============================] - 0s 2ms/step - loss: 0.0200 - accuracy: 5.0908e-05 - val_loss: 0.0195 - val_accuracy: 0.0000e+00\n",
            "Epoch 76/500\n",
            "49/49 [==============================] - 0s 3ms/step - loss: 0.0204 - accuracy: 2.3762e-04 - val_loss: 0.0193 - val_accuracy: 0.0000e+00\n",
            "Epoch 77/500\n",
            "49/49 [==============================] - 0s 2ms/step - loss: 0.0196 - accuracy: 3.5556e-04 - val_loss: 0.0190 - val_accuracy: 0.0000e+00\n",
            "Epoch 78/500\n",
            "49/49 [==============================] - 0s 2ms/step - loss: 0.0191 - accuracy: 4.3394e-05 - val_loss: 0.0188 - val_accuracy: 0.0000e+00\n",
            "Epoch 79/500\n",
            "49/49 [==============================] - 0s 2ms/step - loss: 0.0194 - accuracy: 8.2738e-06 - val_loss: 0.0186 - val_accuracy: 0.0000e+00\n",
            "Epoch 80/500\n",
            "49/49 [==============================] - 0s 2ms/step - loss: 0.0190 - accuracy: 1.1395e-04 - val_loss: 0.0183 - val_accuracy: 0.0000e+00\n",
            "Epoch 81/500\n",
            "49/49 [==============================] - 0s 3ms/step - loss: 0.0184 - accuracy: 2.9530e-05 - val_loss: 0.0181 - val_accuracy: 0.0000e+00\n",
            "Epoch 82/500\n",
            "49/49 [==============================] - 0s 2ms/step - loss: 0.0184 - accuracy: 5.4829e-05 - val_loss: 0.0179 - val_accuracy: 0.0000e+00\n",
            "Epoch 83/500\n",
            "49/49 [==============================] - 0s 2ms/step - loss: 0.0183 - accuracy: 6.7337e-05 - val_loss: 0.0177 - val_accuracy: 0.0000e+00\n",
            "Epoch 84/500\n",
            "49/49 [==============================] - 0s 2ms/step - loss: 0.0180 - accuracy: 5.0908e-05 - val_loss: 0.0175 - val_accuracy: 0.0000e+00\n",
            "Epoch 85/500\n",
            "49/49 [==============================] - 0s 3ms/step - loss: 0.0180 - accuracy: 4.6667e-04 - val_loss: 0.0173 - val_accuracy: 0.0000e+00\n",
            "Epoch 86/500\n",
            "49/49 [==============================] - 0s 3ms/step - loss: 0.0174 - accuracy: 2.3103e-05 - val_loss: 0.0172 - val_accuracy: 0.0000e+00\n",
            "Epoch 87/500\n",
            "49/49 [==============================] - 0s 3ms/step - loss: 0.0172 - accuracy: 2.0002e-05 - val_loss: 0.0170 - val_accuracy: 0.0000e+00\n",
            "Epoch 88/500\n",
            "49/49 [==============================] - 0s 2ms/step - loss: 0.0170 - accuracy: 2.3103e-05 - val_loss: 0.0168 - val_accuracy: 0.0000e+00\n",
            "Epoch 89/500\n",
            "49/49 [==============================] - 0s 2ms/step - loss: 0.0169 - accuracy: 1.0789e-04 - val_loss: 0.0167 - val_accuracy: 0.0000e+00\n",
            "Epoch 90/500\n",
            "49/49 [==============================] - 0s 3ms/step - loss: 0.0169 - accuracy: 2.7334e-04 - val_loss: 0.0165 - val_accuracy: 0.0000e+00\n",
            "Epoch 91/500\n",
            "49/49 [==============================] - 0s 3ms/step - loss: 0.0163 - accuracy: 2.0947e-04 - val_loss: 0.0163 - val_accuracy: 0.0000e+00\n",
            "Epoch 92/500\n",
            "49/49 [==============================] - 0s 3ms/step - loss: 0.0162 - accuracy: 3.6282e-05 - val_loss: 0.0162 - val_accuracy: 0.0000e+00\n",
            "Epoch 93/500\n",
            "49/49 [==============================] - 0s 3ms/step - loss: 0.0164 - accuracy: 1.5757e-04 - val_loss: 0.0160 - val_accuracy: 2.2904e-04\n",
            "Epoch 94/500\n",
            "49/49 [==============================] - 0s 3ms/step - loss: 0.0161 - accuracy: 1.2030e-04 - val_loss: 0.0159 - val_accuracy: 2.2904e-04\n",
            "Epoch 95/500\n",
            "49/49 [==============================] - 0s 2ms/step - loss: 0.0157 - accuracy: 3.2863e-05 - val_loss: 0.0158 - val_accuracy: 2.2904e-04\n",
            "Epoch 96/500\n",
            "49/49 [==============================] - 0s 2ms/step - loss: 0.0154 - accuracy: 4.0000e-04 - val_loss: 0.0156 - val_accuracy: 2.2904e-04\n",
            "Epoch 97/500\n",
            "49/49 [==============================] - 0s 2ms/step - loss: 0.0155 - accuracy: 2.9530e-05 - val_loss: 0.0155 - val_accuracy: 2.2904e-04\n",
            "Epoch 98/500\n",
            "49/49 [==============================] - 0s 3ms/step - loss: 0.0155 - accuracy: 1.5757e-04 - val_loss: 0.0154 - val_accuracy: 2.2904e-04\n",
            "Epoch 99/500\n",
            "49/49 [==============================] - 0s 3ms/step - loss: 0.0152 - accuracy: 1.1111e-05 - val_loss: 0.0153 - val_accuracy: 2.2904e-04\n",
            "Epoch 100/500\n",
            "49/49 [==============================] - 0s 3ms/step - loss: 0.0153 - accuracy: 1.7598e-04 - val_loss: 0.0152 - val_accuracy: 2.2904e-04\n",
            "Epoch 101/500\n",
            "49/49 [==============================] - 0s 3ms/step - loss: 0.0152 - accuracy: 2.5429e-04 - val_loss: 0.0151 - val_accuracy: 2.2904e-04\n",
            "Epoch 102/500\n",
            "49/49 [==============================] - 0s 3ms/step - loss: 0.0154 - accuracy: 4.3394e-05 - val_loss: 0.0150 - val_accuracy: 2.2904e-04\n",
            "Epoch 103/500\n",
            "49/49 [==============================] - 0s 2ms/step - loss: 0.0150 - accuracy: 7.1782e-05 - val_loss: 0.0149 - val_accuracy: 2.2904e-04\n",
            "Epoch 104/500\n",
            "49/49 [==============================] - 0s 3ms/step - loss: 0.0145 - accuracy: 5.0908e-05 - val_loss: 0.0148 - val_accuracy: 2.2904e-04\n",
            "Epoch 105/500\n",
            "49/49 [==============================] - 0s 2ms/step - loss: 0.0146 - accuracy: 5.0908e-05 - val_loss: 0.0147 - val_accuracy: 2.2904e-04\n",
            "Epoch 106/500\n",
            "49/49 [==============================] - 0s 2ms/step - loss: 0.0143 - accuracy: 8.1141e-05 - val_loss: 0.0146 - val_accuracy: 2.2904e-04\n",
            "Epoch 107/500\n",
            "49/49 [==============================] - 0s 2ms/step - loss: 0.0137 - accuracy: 1.4009e-05 - val_loss: 0.0145 - val_accuracy: 2.2904e-04\n",
            "Epoch 108/500\n",
            "49/49 [==============================] - 0s 2ms/step - loss: 0.0146 - accuracy: 6.3036e-05 - val_loss: 0.0144 - val_accuracy: 2.2904e-04\n",
            "Epoch 109/500\n",
            "49/49 [==============================] - 0s 3ms/step - loss: 0.0139 - accuracy: 1.1111e-05 - val_loss: 0.0144 - val_accuracy: 2.2904e-04\n",
            "Epoch 110/500\n",
            "49/49 [==============================] - 0s 2ms/step - loss: 0.0138 - accuracy: 2.2281e-04 - val_loss: 0.0143 - val_accuracy: 2.2904e-04\n",
            "Epoch 111/500\n",
            "49/49 [==============================] - 0s 3ms/step - loss: 0.0138 - accuracy: 5.4829e-05 - val_loss: 0.0142 - val_accuracy: 2.2904e-04\n",
            "Epoch 112/500\n",
            "49/49 [==============================] - 0s 3ms/step - loss: 0.0144 - accuracy: 3.9791e-05 - val_loss: 0.0142 - val_accuracy: 2.2904e-04\n",
            "Epoch 113/500\n",
            "49/49 [==============================] - 0s 2ms/step - loss: 0.0138 - accuracy: 3.9791e-05 - val_loss: 0.0141 - val_accuracy: 2.2904e-04\n",
            "Epoch 114/500\n",
            "49/49 [==============================] - 0s 3ms/step - loss: 0.0138 - accuracy: 1.6972e-05 - val_loss: 0.0140 - val_accuracy: 2.2904e-04\n",
            "Epoch 115/500\n",
            "49/49 [==============================] - 0s 3ms/step - loss: 0.0135 - accuracy: 1.6646e-04 - val_loss: 0.0140 - val_accuracy: 2.2904e-04\n",
            "Epoch 116/500\n",
            "49/49 [==============================] - 0s 2ms/step - loss: 0.0135 - accuracy: 2.7334e-04 - val_loss: 0.0139 - val_accuracy: 2.2904e-04\n",
            "Epoch 117/500\n",
            "49/49 [==============================] - 0s 2ms/step - loss: 0.0134 - accuracy: 4.3394e-05 - val_loss: 0.0139 - val_accuracy: 2.2904e-04\n",
            "Epoch 118/500\n",
            "49/49 [==============================] - 0s 2ms/step - loss: 0.0132 - accuracy: 9.6541e-05 - val_loss: 0.0138 - val_accuracy: 2.2904e-04\n",
            "Epoch 119/500\n",
            "49/49 [==============================] - 0s 3ms/step - loss: 0.0135 - accuracy: 5.0908e-05 - val_loss: 0.0138 - val_accuracy: 2.2904e-04\n",
            "Epoch 120/500\n",
            "49/49 [==============================] - 0s 3ms/step - loss: 0.0133 - accuracy: 2.2281e-04 - val_loss: 0.0137 - val_accuracy: 2.2904e-04\n",
            "Epoch 121/500\n",
            "49/49 [==============================] - 0s 2ms/step - loss: 0.0135 - accuracy: 2.3103e-05 - val_loss: 0.0137 - val_accuracy: 2.2904e-04\n",
            "Epoch 122/500\n",
            "49/49 [==============================] - 0s 2ms/step - loss: 0.0130 - accuracy: 6.3036e-05 - val_loss: 0.0137 - val_accuracy: 2.2904e-04\n",
            "Epoch 123/500\n",
            "49/49 [==============================] - 0s 2ms/step - loss: 0.0128 - accuracy: 4.3394e-05 - val_loss: 0.0136 - val_accuracy: 2.2904e-04\n",
            "Epoch 124/500\n",
            "49/49 [==============================] - 0s 2ms/step - loss: 0.0127 - accuracy: 2.0002e-05 - val_loss: 0.0136 - val_accuracy: 2.2904e-04\n",
            "Epoch 125/500\n",
            "49/49 [==============================] - 0s 3ms/step - loss: 0.0127 - accuracy: 2.9556e-04 - val_loss: 0.0135 - val_accuracy: 2.2904e-04\n",
            "Epoch 126/500\n",
            "49/49 [==============================] - 0s 3ms/step - loss: 0.0127 - accuracy: 2.6278e-05 - val_loss: 0.0135 - val_accuracy: 2.2904e-04\n",
            "Epoch 127/500\n",
            "49/49 [==============================] - 0s 2ms/step - loss: 0.0131 - accuracy: 2.9556e-04 - val_loss: 0.0135 - val_accuracy: 2.2904e-04\n",
            "Epoch 128/500\n",
            "49/49 [==============================] - 0s 3ms/step - loss: 0.0129 - accuracy: 1.7598e-04 - val_loss: 0.0135 - val_accuracy: 2.2904e-04\n",
            "Epoch 129/500\n",
            "49/49 [==============================] - 0s 3ms/step - loss: 0.0131 - accuracy: 6.0000e-04 - val_loss: 0.0134 - val_accuracy: 2.2904e-04\n",
            "Epoch 130/500\n",
            "49/49 [==============================] - 0s 2ms/step - loss: 0.0126 - accuracy: 1.6972e-05 - val_loss: 0.0134 - val_accuracy: 2.2904e-04\n",
            "Epoch 131/500\n",
            "49/49 [==============================] - 0s 2ms/step - loss: 0.0128 - accuracy: 2.0947e-04 - val_loss: 0.0134 - val_accuracy: 2.2904e-04\n",
            "Epoch 132/500\n",
            "49/49 [==============================] - 0s 2ms/step - loss: 0.0128 - accuracy: 2.9556e-04 - val_loss: 0.0134 - val_accuracy: 2.2904e-04\n",
            "Epoch 133/500\n",
            "49/49 [==============================] - 0s 2ms/step - loss: 0.0125 - accuracy: 5.4829e-05 - val_loss: 0.0133 - val_accuracy: 2.2904e-04\n",
            "Epoch 134/500\n",
            "49/49 [==============================] - 0s 3ms/step - loss: 0.0123 - accuracy: 1.4924e-04 - val_loss: 0.0133 - val_accuracy: 2.2904e-04\n",
            "Epoch 135/500\n",
            "49/49 [==============================] - 0s 3ms/step - loss: 0.0127 - accuracy: 2.0947e-04 - val_loss: 0.0133 - val_accuracy: 2.2904e-04\n",
            "Epoch 136/500\n",
            "49/49 [==============================] - 0s 2ms/step - loss: 0.0127 - accuracy: 1.7598e-04 - val_loss: 0.0133 - val_accuracy: 2.2904e-04\n",
            "Epoch 137/500\n",
            "49/49 [==============================] - 0s 2ms/step - loss: 0.0126 - accuracy: 8.1141e-05 - val_loss: 0.0133 - val_accuracy: 2.2904e-04\n",
            "Epoch 138/500\n",
            "49/49 [==============================] - 0s 3ms/step - loss: 0.0124 - accuracy: 5.4829e-05 - val_loss: 0.0133 - val_accuracy: 2.2904e-04\n",
            "Epoch 139/500\n",
            "49/49 [==============================] - 0s 3ms/step - loss: 0.0124 - accuracy: 1.1111e-05 - val_loss: 0.0133 - val_accuracy: 2.2904e-04\n",
            "Epoch 140/500\n",
            "49/49 [==============================] - 0s 3ms/step - loss: 0.0126 - accuracy: 1.1111e-05 - val_loss: 0.0132 - val_accuracy: 2.2904e-04\n",
            "Epoch 141/500\n",
            "49/49 [==============================] - 0s 3ms/step - loss: 0.0125 - accuracy: 5.0908e-05 - val_loss: 0.0132 - val_accuracy: 2.2904e-04\n",
            "Epoch 142/500\n",
            "49/49 [==============================] - 0s 2ms/step - loss: 0.0122 - accuracy: 5.4960e-06 - val_loss: 0.0132 - val_accuracy: 2.2904e-04\n",
            "Epoch 143/500\n",
            "49/49 [==============================] - 0s 2ms/step - loss: 0.0125 - accuracy: 2.6278e-05 - val_loss: 0.0132 - val_accuracy: 2.2904e-04\n",
            "Epoch 144/500\n",
            "49/49 [==============================] - 0s 2ms/step - loss: 0.0126 - accuracy: 1.6646e-04 - val_loss: 0.0132 - val_accuracy: 2.2904e-04\n",
            "Epoch 145/500\n",
            "49/49 [==============================] - 0s 3ms/step - loss: 0.0127 - accuracy: 1.4140e-04 - val_loss: 0.0132 - val_accuracy: 2.2904e-04\n",
            "Epoch 146/500\n",
            "49/49 [==============================] - 0s 3ms/step - loss: 0.0124 - accuracy: 1.7598e-04 - val_loss: 0.0132 - val_accuracy: 2.2904e-04\n",
            "Epoch 147/500\n",
            "49/49 [==============================] - 0s 3ms/step - loss: 0.0123 - accuracy: 2.0002e-05 - val_loss: 0.0132 - val_accuracy: 2.2904e-04\n",
            "Epoch 148/500\n",
            "49/49 [==============================] - 0s 3ms/step - loss: 0.0122 - accuracy: 1.1111e-05 - val_loss: 0.0132 - val_accuracy: 2.2904e-04\n",
            "Epoch 149/500\n",
            "49/49 [==============================] - 0s 2ms/step - loss: 0.0121 - accuracy: 2.3103e-05 - val_loss: 0.0132 - val_accuracy: 2.2904e-04\n",
            "Epoch 150/500\n",
            "49/49 [==============================] - 0s 3ms/step - loss: 0.0122 - accuracy: 8.2738e-06 - val_loss: 0.0132 - val_accuracy: 2.2904e-04\n",
            "Epoch 151/500\n",
            "49/49 [==============================] - 0s 2ms/step - loss: 0.0123 - accuracy: 1.2697e-04 - val_loss: 0.0132 - val_accuracy: 2.2904e-04\n",
            "Epoch 152/500\n",
            "49/49 [==============================] - 0s 2ms/step - loss: 0.0127 - accuracy: 2.3103e-05 - val_loss: 0.0132 - val_accuracy: 2.2904e-04\n",
            "Epoch 153/500\n",
            "49/49 [==============================] - 0s 2ms/step - loss: 0.0121 - accuracy: 1.5757e-04 - val_loss: 0.0132 - val_accuracy: 2.2904e-04\n",
            "Epoch 154/500\n",
            "49/49 [==============================] - 0s 2ms/step - loss: 0.0122 - accuracy: 2.7334e-04 - val_loss: 0.0132 - val_accuracy: 2.2904e-04\n",
            "Epoch 155/500\n",
            "49/49 [==============================] - 0s 2ms/step - loss: 0.0125 - accuracy: 5.0908e-05 - val_loss: 0.0132 - val_accuracy: 2.2904e-04\n",
            "Epoch 156/500\n",
            "49/49 [==============================] - 0s 3ms/step - loss: 0.0123 - accuracy: 9.6541e-05 - val_loss: 0.0132 - val_accuracy: 2.2904e-04\n",
            "Epoch 157/500\n",
            "49/49 [==============================] - 0s 2ms/step - loss: 0.0125 - accuracy: 1.8624e-04 - val_loss: 0.0132 - val_accuracy: 2.2904e-04\n",
            "Epoch 158/500\n",
            "49/49 [==============================] - 0s 2ms/step - loss: 0.0128 - accuracy: 6.7337e-05 - val_loss: 0.0132 - val_accuracy: 2.2904e-04\n",
            "Epoch 159/500\n",
            "49/49 [==============================] - 0s 3ms/step - loss: 0.0122 - accuracy: 2.5429e-04 - val_loss: 0.0132 - val_accuracy: 2.2904e-04\n",
            "Epoch 160/500\n",
            "49/49 [==============================] - 0s 2ms/step - loss: 0.0122 - accuracy: 2.7334e-04 - val_loss: 0.0132 - val_accuracy: 2.2904e-04\n",
            "Epoch 161/500\n",
            "49/49 [==============================] - 0s 3ms/step - loss: 0.0123 - accuracy: 5.0908e-05 - val_loss: 0.0132 - val_accuracy: 2.2904e-04\n",
            "Epoch 162/500\n",
            "49/49 [==============================] - 0s 2ms/step - loss: 0.0122 - accuracy: 3.2863e-05 - val_loss: 0.0132 - val_accuracy: 2.2904e-04\n",
            "Epoch 163/500\n",
            "49/49 [==============================] - 0s 2ms/step - loss: 0.0116 - accuracy: 2.0002e-05 - val_loss: 0.0132 - val_accuracy: 2.2904e-04\n",
            "Epoch 164/500\n",
            "49/49 [==============================] - 0s 2ms/step - loss: 0.0122 - accuracy: 8.1141e-05 - val_loss: 0.0132 - val_accuracy: 2.2904e-04\n",
            "Epoch 165/500\n",
            "49/49 [==============================] - 0s 3ms/step - loss: 0.0119 - accuracy: 9.6541e-05 - val_loss: 0.0132 - val_accuracy: 2.2904e-04\n",
            "Epoch 166/500\n",
            "49/49 [==============================] - 0s 2ms/step - loss: 0.0123 - accuracy: 8.6080e-05 - val_loss: 0.0132 - val_accuracy: 2.2904e-04\n",
            "Epoch 167/500\n",
            "49/49 [==============================] - 0s 3ms/step - loss: 0.0123 - accuracy: 7.6380e-05 - val_loss: 0.0132 - val_accuracy: 2.2904e-04\n",
            "Epoch 168/500\n",
            "49/49 [==============================] - 0s 2ms/step - loss: 0.0122 - accuracy: 3.2863e-05 - val_loss: 0.0132 - val_accuracy: 2.2904e-04\n",
            "Epoch 169/500\n",
            "49/49 [==============================] - 0s 3ms/step - loss: 0.0122 - accuracy: 1.4924e-04 - val_loss: 0.0132 - val_accuracy: 2.2904e-04\n",
            "Epoch 170/500\n",
            "49/49 [==============================] - 0s 3ms/step - loss: 0.0129 - accuracy: 5.0908e-05 - val_loss: 0.0132 - val_accuracy: 2.2904e-04\n",
            "Epoch 171/500\n",
            "49/49 [==============================] - 0s 3ms/step - loss: 0.0122 - accuracy: 2.9556e-04 - val_loss: 0.0132 - val_accuracy: 2.2904e-04\n",
            "Epoch 172/500\n",
            "49/49 [==============================] - 0s 2ms/step - loss: 0.0123 - accuracy: 2.7334e-04 - val_loss: 0.0132 - val_accuracy: 2.2904e-04\n",
            "Epoch 173/500\n",
            "49/49 [==============================] - 0s 3ms/step - loss: 0.0124 - accuracy: 5.0908e-05 - val_loss: 0.0132 - val_accuracy: 2.2904e-04\n"
          ],
          "name": "stdout"
        }
      ]
    },
    {
      "cell_type": "code",
      "metadata": {
        "colab": {
          "base_uri": "https://localhost:8080/",
          "height": 279
        },
        "id": "mGV8I5txYn0S",
        "outputId": "2d86cf63-42c3-4e3d-8e77-b7b04a867b9e"
      },
      "source": [
        "# Show Loss Curve\n",
        "plot_loss_curve(history)"
      ],
      "execution_count": 60,
      "outputs": [
        {
          "output_type": "display_data",
          "data": {
            "image/png": "[encoded data removed]",
            "text/plain": [
              "<Figure size 432x288 with 1 Axes>"
            ]
          },
          "metadata": {
            "tags": [],
            "needs_background": "light"
          }
        }
      ]
    },
    {
      "cell_type": "code",
      "metadata": {
        "id": "QXnvrfSEY7f0"
      },
      "source": [
        "# Make Test Predictions\n",
        "y_test_pred = model.predict(x_test_trans)\n",
        "y_test_pred = y_scaler.inverse_transform(y_test_pred)\n",
        "y_test_diff = y_scaler.inverse_transform(y_test_scaled)"
      ],
      "execution_count": 61,
      "outputs": []
    },
    {
      "cell_type": "code",
      "metadata": {
        "colab": {
          "base_uri": "https://localhost:8080/",
          "height": 265
        },
        "id": "88Dc0KGpZJCQ",
        "outputId": "b6231939-35a9-42d3-899a-837b795249ab"
      },
      "source": [
        "# Plot Actual vs Predicted\n",
        "plot_actual_pred(y_test_diff[-20:], y_test_pred[-20:])"
      ],
      "execution_count": 62,
      "outputs": [
        {
          "output_type": "display_data",
          "data": {
            "image/png": "[encoded data removed]",
            "text/plain": [
              "<Figure size 432x288 with 1 Axes>"
            ]
          },
          "metadata": {
            "tags": [],
            "needs_background": "light"
          }
        }
      ]
    },
    {
      "cell_type": "code",
      "metadata": {
        "colab": {
          "base_uri": "https://localhost:8080/"
        },
        "id": "Rv5jk0-3hC2T",
        "outputId": "2d9f4d17-368c-44d4-f04f-3cf4e9bc31a1"
      },
      "source": [
        "# Calculate Percent of Matchups Above/Below Prediction\n",
        "count = 0\n",
        "total = 0\n",
        "for i in range(len(y_test_diff)):\n",
        "  if (y_test_diff[i] < y_test_pred[i]):\n",
        "    count = count + 1\n",
        "  total = total + 1\n",
        "print(str (round(count/total, 3) * 100) + '% Below')\n",
        "print(str (round((total - count)/total, 3) * 100) + '% Above')"
      ],
      "execution_count": 63,
      "outputs": [
        {
          "output_type": "stream",
          "text": [
            "45.800000000000004% Below\n",
            "54.2% Above\n"
          ],
          "name": "stdout"
        }
      ]
    },
    {
      "cell_type": "code",
      "metadata": {
        "id": "XonpFyuhZwo8"
      },
      "source": [
        "#starting by setting random seeds and restarting keras blackend session\n",
        "np.random.seed(42)\n",
        "tf.random.set_seed(42)\n",
        "\n",
        "#resets the Keras global state - helps avoid clutter from old models and layers, especially when memory is limited\n",
        "keras.backend.clear_session()"
      ],
      "execution_count": 64,
      "outputs": []
    },
    {
      "cell_type": "code",
      "metadata": {
        "colab": {
          "base_uri": "https://localhost:8080/"
        },
        "id": "l9g9eMoXZNhx",
        "outputId": "5e1efee9-c93b-484e-b1ff-c1b3e3393655"
      },
      "source": [
        "# Create Deep Regression Model (Neaural Networks)\n",
        "model = Sequential()\n",
        "model.add(LSTM(100, return_sequences = False, dropout = 0.05))\n",
        "model.add(Dense(1, activation='relu'))\n",
        "model.compile(loss='mse', optimizer=keras.optimizers.Adam(lr=0.00155))\n",
        "history = model.fit(x_train_trans, y_train_scaled, epochs=500, batch_size = 150,\n",
        "                    validation_data=(x_valid_trans, y_valid_scaled), callbacks = early_stopping)"
      ],
      "execution_count": 65,
      "outputs": [
        {
          "output_type": "stream",
          "text": [
            "Epoch 1/500\n",
            "49/49 [==============================] - 3s 22ms/step - loss: 0.1207 - val_loss: 0.0163\n",
            "Epoch 2/500\n",
            "49/49 [==============================] - 1s 12ms/step - loss: 0.0182 - val_loss: 0.0148\n",
            "Epoch 3/500\n",
            "49/49 [==============================] - 1s 12ms/step - loss: 0.0154 - val_loss: 0.0139\n",
            "Epoch 4/500\n",
            "49/49 [==============================] - 1s 11ms/step - loss: 0.0143 - val_loss: 0.0137\n",
            "Epoch 5/500\n",
            "49/49 [==============================] - 1s 12ms/step - loss: 0.0138 - val_loss: 0.0135\n",
            "Epoch 6/500\n",
            "49/49 [==============================] - 1s 12ms/step - loss: 0.0134 - val_loss: 0.0131\n",
            "Epoch 7/500\n",
            "49/49 [==============================] - 1s 13ms/step - loss: 0.0126 - val_loss: 0.0128\n",
            "Epoch 8/500\n",
            "49/49 [==============================] - 1s 12ms/step - loss: 0.0124 - val_loss: 0.0127\n",
            "Epoch 9/500\n",
            "49/49 [==============================] - 1s 12ms/step - loss: 0.0120 - val_loss: 0.0127\n",
            "Epoch 10/500\n",
            "49/49 [==============================] - 1s 12ms/step - loss: 0.0123 - val_loss: 0.0129\n",
            "Epoch 11/500\n",
            "49/49 [==============================] - 1s 12ms/step - loss: 0.0123 - val_loss: 0.0127\n",
            "Epoch 12/500\n",
            "49/49 [==============================] - 1s 12ms/step - loss: 0.0123 - val_loss: 0.0126\n",
            "Epoch 13/500\n",
            "49/49 [==============================] - 1s 12ms/step - loss: 0.0122 - val_loss: 0.0126\n",
            "Epoch 14/500\n",
            "49/49 [==============================] - 1s 12ms/step - loss: 0.0121 - val_loss: 0.0127\n",
            "Epoch 15/500\n",
            "49/49 [==============================] - 1s 12ms/step - loss: 0.0118 - val_loss: 0.0127\n",
            "Epoch 16/500\n",
            "49/49 [==============================] - 1s 12ms/step - loss: 0.0121 - val_loss: 0.0127\n",
            "Epoch 17/500\n",
            "49/49 [==============================] - 1s 12ms/step - loss: 0.0118 - val_loss: 0.0134\n",
            "Epoch 18/500\n",
            "49/49 [==============================] - 1s 12ms/step - loss: 0.0120 - val_loss: 0.0127\n",
            "Epoch 19/500\n",
            "49/49 [==============================] - 1s 12ms/step - loss: 0.0122 - val_loss: 0.0127\n",
            "Epoch 20/500\n",
            "49/49 [==============================] - 1s 12ms/step - loss: 0.0120 - val_loss: 0.0127\n",
            "Epoch 21/500\n",
            "49/49 [==============================] - 1s 12ms/step - loss: 0.0123 - val_loss: 0.0126\n",
            "Epoch 22/500\n",
            "49/49 [==============================] - 1s 12ms/step - loss: 0.0120 - val_loss: 0.0127\n",
            "Epoch 23/500\n",
            "49/49 [==============================] - 1s 12ms/step - loss: 0.0121 - val_loss: 0.0126\n",
            "Epoch 24/500\n",
            "49/49 [==============================] - 1s 12ms/step - loss: 0.0122 - val_loss: 0.0127\n",
            "Epoch 25/500\n",
            "49/49 [==============================] - 1s 12ms/step - loss: 0.0122 - val_loss: 0.0127\n",
            "Epoch 26/500\n",
            "49/49 [==============================] - 1s 12ms/step - loss: 0.0122 - val_loss: 0.0127\n",
            "Epoch 27/500\n",
            "49/49 [==============================] - 1s 12ms/step - loss: 0.0124 - val_loss: 0.0127\n",
            "Epoch 28/500\n",
            "49/49 [==============================] - 1s 12ms/step - loss: 0.0121 - val_loss: 0.0127\n",
            "Epoch 29/500\n",
            "49/49 [==============================] - 1s 12ms/step - loss: 0.0119 - val_loss: 0.0126\n",
            "Epoch 30/500\n",
            "49/49 [==============================] - 1s 12ms/step - loss: 0.0120 - val_loss: 0.0127\n",
            "Epoch 31/500\n",
            "49/49 [==============================] - 1s 12ms/step - loss: 0.0121 - val_loss: 0.0127\n",
            "Epoch 32/500\n",
            "49/49 [==============================] - 1s 12ms/step - loss: 0.0124 - val_loss: 0.0126\n",
            "Epoch 33/500\n",
            "49/49 [==============================] - 1s 12ms/step - loss: 0.0119 - val_loss: 0.0127\n",
            "Epoch 34/500\n",
            "49/49 [==============================] - 1s 12ms/step - loss: 0.0122 - val_loss: 0.0128\n",
            "Epoch 35/500\n",
            "49/49 [==============================] - 1s 12ms/step - loss: 0.0120 - val_loss: 0.0127\n",
            "Epoch 36/500\n",
            "49/49 [==============================] - 1s 13ms/step - loss: 0.0121 - val_loss: 0.0127\n"
          ],
          "name": "stdout"
        }
      ]
    },
    {
      "cell_type": "code",
      "metadata": {
        "colab": {
          "base_uri": "https://localhost:8080/",
          "height": 279
        },
        "id": "FvCqAjvHZ-sZ",
        "outputId": "a14d9013-dbf3-4ae9-85e8-1c1a31637c4d"
      },
      "source": [
        "# Show Loss Curve\n",
        "plot_loss_curve(history)"
      ],
      "execution_count": 66,
      "outputs": [
        {
          "output_type": "display_data",
          "data": {
            "image/png": "[encoded data removed]",
            "text/plain": [
              "<Figure size 432x288 with 1 Axes>"
            ]
          },
          "metadata": {
            "tags": [],
            "needs_background": "light"
          }
        }
      ]
    },
    {
      "cell_type": "code",
      "metadata": {
        "id": "ol5zQ8kMaJV3"
      },
      "source": [
        "# Make Test Predictions\n",
        "y_test_pred = model.predict(x_test_trans)\n",
        "y_test_pred = y_scaler.inverse_transform(y_test_pred)\n",
        "y_test_diff = y_scaler.inverse_transform(y_test_scaled)"
      ],
      "execution_count": 67,
      "outputs": []
    },
    {
      "cell_type": "code",
      "metadata": {
        "colab": {
          "base_uri": "https://localhost:8080/",
          "height": 265
        },
        "id": "wl3flLLiaMUY",
        "outputId": "d4a3ad1d-298b-4674-de63-430bb71d8a9d"
      },
      "source": [
        "# Plot Actual vs Predicted\n",
        "plot_actual_pred(y_test_diff[-20:], y_test_pred[-20:])"
      ],
      "execution_count": 68,
      "outputs": [
        {
          "output_type": "display_data",
          "data": {
            "image/png": "[encoded data removed]",
            "text/plain": [
              "<Figure size 432x288 with 1 Axes>"
            ]
          },
          "metadata": {
            "tags": [],
            "needs_background": "light"
          }
        }
      ]
    },
    {
      "cell_type": "code",
      "metadata": {
        "colab": {
          "base_uri": "https://localhost:8080/"
        },
        "id": "jV2OqrrRf6aD",
        "outputId": "34217c74-9177-4aeb-ba03-d77c9b102ccb"
      },
      "source": [
        "# Calculate Percent of Matchups Above/Below Prediction\n",
        "count = 0\n",
        "total = 0\n",
        "for i in range(len(y_test_diff)):\n",
        "  if (y_test_diff[i] < y_test_pred[i]):\n",
        "    count = count + 1\n",
        "  total = total + 1\n",
        "print(str (round(count/total, 3) * 100) + '% Below')\n",
        "print(str (round((total - count)/total, 3) * 100) + '% Above')"
      ],
      "execution_count": 69,
      "outputs": [
        {
          "output_type": "stream",
          "text": [
            "49.0% Below\n",
            "51.0% Above\n"
          ],
          "name": "stdout"
        }
      ]
    }
  ]
}